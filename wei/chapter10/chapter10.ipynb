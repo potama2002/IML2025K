{
  "nbformat": 4,
  "nbformat_minor": 0,
  "metadata": {
    "colab": {
      "name": "chapter10.ipynb",
      "provenance": [],
      "collapsed_sections": []
    },
    "kernelspec": {
      "name": "python3",
      "display_name": "Python 3"
    },
    "language_info": {
      "name": "python"
    },
    "accelerator": "GPU",
    "gpuClass": "standard"
  },
  "cells": [
    {
      "cell_type": "markdown",
      "source": [
        "本章では，日本語と英語の翻訳コーパスである京都フリー翻訳タスク (KFTT)を用い，ニューラル機械翻訳モデルを構築する．ニューラル機械翻訳モデルの構築には，fairseq，Hugging Face Transformers，OpenNMT-pyなどの既存のツールを活用せよ．\n",
        "## knock90 データの準備\n",
        "機械翻訳のデータセットをダウンロードせよ．訓練データ，開発データ，評価データを整形し，必要に応じてトークン化などの前処理を行うこと．ただし，この段階ではトークンの単位として形態素（日本語）および単語（英語）を採用せよ．"
      ],
      "metadata": {
        "id": "fOMLRwj0dcti"
      }
    },
    {
      "cell_type": "code",
      "source": [
        "from google.colab import drive\n",
        "drive.mount('/content/drive')"
      ],
      "metadata": {
        "id": "SNpI5tPrcInj"
      },
      "execution_count": null,
      "outputs": []
    },
    {
      "cell_type": "code",
      "execution_count": null,
      "metadata": {
        "id": "CgCs_jOHKqCr"
      },
      "outputs": [],
      "source": [
        "# download KFTT data and unzip\n",
        "!wget http://www.phontron.com/kftt/download/kftt-data-1.0.tar.gz\n",
        "!tar -zxvf kftt-data-1.0.tar.gz"
      ]
    },
    {
      "cell_type": "code",
      "source": [
        "# install mecab \n",
        "!apt install mecab libmecab-dev mecab-ipadic-utf8"
      ],
      "metadata": {
        "id": "huuMC6PGe789"
      },
      "execution_count": null,
      "outputs": []
    },
    {
      "cell_type": "code",
      "source": [
        "# install CRF++(実行に必要)\n",
        "FILE_ID = '0B4y35FiV1wh7QVR6VXJ5dWExSTQ'\n",
        "FILE_NAME = 'crfpp.tar.gz'\n",
        "!wget 'https://docs.google.com/uc?export=download&id=$FILE_ID' -O $FILE_NAME\n",
        "!tar xvf crfpp.tar.gz\n",
        "%cd CRF++-0.58\n",
        "!./configure && make && make install && ldconfig\n",
        "!pwd\n",
        "%cd /content"
      ],
      "metadata": {
        "id": "dkKKl1v4gSFV"
      },
      "execution_count": null,
      "outputs": []
    },
    {
      "cell_type": "code",
      "source": [
        "# use macab to tokenize japanese data\n",
        "!cat kftt-data-1.0/data/orig/kyoto-train.ja | mecab > train.mecab.ja\n",
        "!cat kftt-data-1.0/data/orig/kyoto-dev.ja | mecab > dev.mecab.ja\n",
        "!cat kftt-data-1.0/data/orig/kyoto-test.ja | mecab > test.mecab.ja"
      ],
      "metadata": {
        "id": "kRIaTztYe3v-"
      },
      "execution_count": 5,
      "outputs": []
    },
    {
      "cell_type": "code",
      "source": [
        "for src, dst in [\n",
        "    ('train.mecab.ja', 'train.spacy.ja'),\n",
        "    ('dev.mecab.ja', 'dev.spacy.ja'),\n",
        "    ('test.mecab.ja', 'test.spacy.ja'),\n",
        "]:\n",
        "    with open(src) as f:\n",
        "        lst = []\n",
        "        tmp = []\n",
        "        for x in f:\n",
        "            x = x.strip()\n",
        "            if x == 'EOS':\n",
        "                lst.append(' '.join(tmp))   # 空白で区切られる\n",
        "                tmp = []\n",
        "            elif x != '':\n",
        "                tmp.append(x.split('\\t')[0])\n",
        "    with open(dst, 'w') as f:\n",
        "        for line in lst:\n",
        "            print(line, file=f)"
      ],
      "metadata": {
        "id": "pgqcrPOPg8pY"
      },
      "execution_count": 6,
      "outputs": []
    },
    {
      "cell_type": "code",
      "source": [
        "print('orignal data for ja:\\n')\n",
        "with open('/content/kftt-data-1.0/data/orig/kyoto-train.ja') as f1:\n",
        "  data = f1.readlines()\n",
        "  for line in data[:4]:\n",
        "    print(line)\n",
        "print('mecab data for ja:\\n')\n",
        "with open('train.mecab.ja') as f2:\n",
        "  data = f2.readlines()\n",
        "  for line in data[:4]:\n",
        "    print(line)\n",
        "print('space data for ja:\\n')\n",
        "with open('train.spacy.ja') as f:\n",
        "  data = f.readlines()\n",
        "  for line in data[:4]:\n",
        "    print(line)"
      ],
      "metadata": {
        "id": "5vYUcbl9ovLH",
        "colab": {
          "base_uri": "https://localhost:8080/"
        },
        "outputId": "0303c81e-a083-431a-dbd6-53a53c9174eb"
      },
      "execution_count": 7,
      "outputs": [
        {
          "output_type": "stream",
          "name": "stdout",
          "text": [
            "orignal data for ja:\n",
            "\n",
            "雪舟（せっしゅう、1420年（応永27年）-1506年（永正3年））は号で、15世紀後半室町時代に活躍した水墨画家・禅僧で、画聖とも称えられる。\n",
            "\n",
            "日本の水墨画を一変させた。\n",
            "\n",
            "諱は「等楊（とうよう）」、もしくは「拙宗（せっしゅう）」と号した。\n",
            "\n",
            "備中国に生まれ、京都・相国寺に入ってから周防国に移る。\n",
            "\n",
            "mecab data for ja:\n",
            "\n",
            "雪舟\t名詞,固有名詞,人名,一般,*,*,雪舟,セッシュウ,セッシュー\n",
            "\n",
            "（\t記号,括弧開,*,*,*,*,（,（,（\n",
            "\n",
            "せっしゅう\t名詞,サ変接続,*,*,*,*,せっしゅう,セッシュウ,セッシュー\n",
            "\n",
            "、\t記号,読点,*,*,*,*,、,、,、\n",
            "\n",
            "space data for ja:\n",
            "\n",
            "雪舟 （ せっしゅう 、 1420 年 （ 応永 27 年 ） - 1506 年 （ 永 正 3 年 ） ） は 号 で 、 15 世紀 後半 室町 時代 に 活躍 し た 水墨 画家 ・ 禅僧 で 、 画聖 と も 称え られる 。\n",
            "\n",
            "日本 の 水墨 画 を 一変 さ せ た 。\n",
            "\n",
            "諱 は 「 等 楊 （ とう よう ） 」 、 もしくは 「 拙 宗 （ せっしゅう ） 」 と 号 し た 。\n",
            "\n",
            "備中 国 に 生まれ 、 京都 ・ 相国寺 に 入っ て から 周防 国 に 移る 。\n",
            "\n"
          ]
        }
      ]
    },
    {
      "cell_type": "code",
      "source": [
        "import re\n",
        "import spacy\n",
        "# tokenize data-en\n",
        "\n",
        "nlp = spacy.load('en_core_web_sm')\n",
        "\n",
        "for src, dst in [\n",
        "    ('kftt-data-1.0/data/orig/kyoto-train.en', 'train.spacy.en'),\n",
        "    ('kftt-data-1.0/data/orig/kyoto-dev.en', 'dev.spacy.en'),\n",
        "    ('kftt-data-1.0/data/orig/kyoto-test.en', 'test.spacy.en'),   \n",
        "]:\n",
        "  with open(src) as f, open(dst, 'w') as g:\n",
        "    for x in f:\n",
        "      x = x.strip()\n",
        "      x = re.sub(r'\\s+', ' ', x)\n",
        "      x = nlp.make_doc(x)\n",
        "      x = ' '.join([doc.text for doc in x])\n",
        "      print(x, file=g)\n"
      ],
      "metadata": {
        "id": "0o0Kr8Ymg0sk"
      },
      "execution_count": 12,
      "outputs": []
    },
    {
      "cell_type": "code",
      "source": [
        "print('orignal data for en:\\n')\n",
        "with open('/content/kftt-data-1.0/data/orig/kyoto-train.en') as f1:\n",
        "  data = f1.readlines()\n",
        "  for line in data[:4]:\n",
        "    print(line)\n",
        "print('space data for en:\\n')\n",
        "with open('train.spacy.en') as f2:\n",
        "  data = f2.readlines()\n",
        "  for line in data[:4]:\n",
        "    print(line)"
      ],
      "metadata": {
        "id": "9wEnhiP2soCZ",
        "colab": {
          "base_uri": "https://localhost:8080/"
        },
        "outputId": "547d0c40-6875-40d2-9354-23d15140ebf8"
      },
      "execution_count": 13,
      "outputs": [
        {
          "output_type": "stream",
          "name": "stdout",
          "text": [
            "orignal data for en:\n",
            "\n",
            "Known as Sesshu (1420 - 1506), he was an ink painter and Zen monk active in the Muromachi period in the latter half of the 15th century, and was called a master painter.\n",
            "\n",
            "He revolutionized the Japanese ink painting.\n",
            "\n",
            "He was given the posthumous name \"Toyo\" or \"Sesshu (拙宗).\"\n",
            "\n",
            "Born in Bicchu Province, he moved to Suo Province after entering SShokoku-ji Temple in Kyoto.\n",
            "\n",
            "space data for en:\n",
            "\n",
            "Known as Sesshu ( 1420 - 1506 ) , he was an ink painter and Zen monk active in the Muromachi period in the latter half of the 15th century , and was called a master painter .\n",
            "\n",
            "He revolutionized the Japanese ink painting .\n",
            "\n",
            "He was given the posthumous name \" Toyo \" or \" Sesshu ( 拙宗 ) . \"\n",
            "\n",
            "Born in Bicchu Province , he moved to Suo Province after entering SShokoku - ji Temple in Kyoto .\n",
            "\n"
          ]
        }
      ]
    },
    {
      "cell_type": "code",
      "source": [
        "!pip install fairseq\n",
        "# doc: https://github.com/facebookresearch/fairseq/tree/main/examples/translation"
      ],
      "metadata": {
        "id": "CWVqDP5On1nM"
      },
      "execution_count": null,
      "outputs": []
    },
    {
      "cell_type": "markdown",
      "source": [
        "## knock91 機械翻訳モデルの訓練\n",
        "90で準備したデータを用いて，ニューラル機械翻訳のモデルを学習せよ（ニューラルネットワークのモデルはTransformerやLSTMなど適当に選んでよい）．"
      ],
      "metadata": {
        "id": "Bajqa5NxeF65"
      }
    },
    {
      "cell_type": "code",
      "source": [
        "# preprocess/binarize the data\n",
        "# src:ja trg:en; preprocessed data is saved to data91\n",
        "!fairseq-preprocess -s ja -t en \\\n",
        "    --trainpref train.spacy \\\n",
        "    --validpref dev.spacy \\\n",
        "    --destdir data91  \\\n",
        "    --thresholdsrc 5 \\\n",
        "    --thresholdtgt 5 \\\n",
        "    --workers 20\n",
        "# runing time:3min28s\n",
        "# tokenizer=None,bpe=None,cpu=False, criterion='cross_entropy',lr_scheduler='fixed',min_loss_scale=0.0001,optimizer=None,scoring='bleu', seed=1\n",
        "# [ja] Dictionary: 49320 types\n",
        "# [ja] train.spacy.ja: 440288 sents, 11412336 tokens, 1.0% replaced (by <unk>)\n",
        "# [ja] dev.spacy.ja: 1166 sents, 26014 tokens, 1.04% replaced (by <unk>)\n",
        "# [en] Dictionary: 61944 types\n",
        "# [en] train.spacy.en: 440288 sents, 11763358 tokens, 2.68% replaced (by <unk>)\n",
        "# [en] dev.spacy.en: 1166 sents, 25042 tokens, 3.95% replaced (by <unk>)"
      ],
      "metadata": {
        "id": "EGSEnNyMe27H",
        "colab": {
          "base_uri": "https://localhost:8080/"
        },
        "outputId": "4feb4948-e80a-4ea6-fac5-59eb81fb8f89"
      },
      "execution_count": 15,
      "outputs": [
        {
          "output_type": "stream",
          "name": "stdout",
          "text": [
            "2022-07-23 09:55:37 | INFO | fairseq.tasks.text_to_speech | Please install tensorboardX: pip install tensorboardX\n",
            "2022-07-23 09:55:38 | INFO | fairseq_cli.preprocess | Namespace(aim_repo=None, aim_run_hash=None, align_suffix=None, alignfile=None, all_gather_list_size=16384, amp=False, amp_batch_retries=2, amp_init_scale=128, amp_scale_window=None, azureml_logging=False, bf16=False, bpe=None, cpu=False, criterion='cross_entropy', dataset_impl='mmap', destdir='data91', dict_only=False, empty_cache_freq=0, fp16=False, fp16_init_scale=128, fp16_no_flatten_grads=False, fp16_scale_tolerance=0.0, fp16_scale_window=None, joined_dictionary=False, log_file=None, log_format=None, log_interval=100, lr_scheduler='fixed', memory_efficient_bf16=False, memory_efficient_fp16=False, min_loss_scale=0.0001, model_parallel_size=1, no_progress_bar=False, nwordssrc=-1, nwordstgt=-1, on_cpu_convert_precision=False, only_source=False, optimizer=None, padding_factor=8, plasma_path='/tmp/plasma', profile=False, quantization_config_path=None, reset_logging=False, scoring='bleu', seed=1, source_lang='ja', srcdict=None, suppress_crashes=False, target_lang='en', task='translation', tensorboard_logdir=None, testpref=None, tgtdict=None, threshold_loss_scale=None, thresholdsrc=5, thresholdtgt=5, tokenizer=None, tpu=False, trainpref='train.spacy', use_plasma_view=False, user_dir=None, validpref='dev.spacy', wandb_project=None, workers=20)\n",
            "2022-07-23 09:56:54 | INFO | fairseq_cli.preprocess | [ja] Dictionary: 49320 types\n",
            "2022-07-23 09:58:15 | INFO | fairseq_cli.preprocess | [ja] train.spacy.ja: 440288 sents, 11412336 tokens, 1.0% replaced (by <unk>)\n",
            "2022-07-23 09:58:15 | INFO | fairseq_cli.preprocess | [ja] Dictionary: 49320 types\n",
            "2022-07-23 09:58:17 | INFO | fairseq_cli.preprocess | [ja] dev.spacy.ja: 1166 sents, 26014 tokens, 1.04% replaced (by <unk>)\n",
            "2022-07-23 09:58:17 | INFO | fairseq_cli.preprocess | [en] Dictionary: 55472 types\n",
            "2022-07-23 09:59:15 | INFO | fairseq_cli.preprocess | [en] train.spacy.en: 440288 sents, 12321438 tokens, 1.56% replaced (by <unk>)\n",
            "2022-07-23 09:59:15 | INFO | fairseq_cli.preprocess | [en] Dictionary: 55472 types\n",
            "2022-07-23 09:59:16 | INFO | fairseq_cli.preprocess | [en] dev.spacy.en: 1166 sents, 26101 tokens, 2.83% replaced (by <unk>)\n",
            "2022-07-23 09:59:16 | INFO | fairseq_cli.preprocess | Wrote preprocessed data to data91\n"
          ]
        }
      ]
    },
    {
      "cell_type": "code",
      "source": [
        "# train a Transformer translation model\n",
        "# CUDA_VISIBLE_DEVICE=0 # specify which GPU to use\n",
        "# epochs=3\n",
        "!fairseq-train data91 \\\n",
        "    --fp16 \\\n",
        "    --save-dir save91 \\\n",
        "    --max-epoch 3 \\\n",
        "    --update-freq 1 \\\n",
        "    --encoder-normalize-before --decoder-normalize-before \\\n",
        "    --arch transformer \\\n",
        "    --encoder-embed-dim 512 --encoder-ffn-embed-dim 1024 --encoder-attention-heads 4 --encoder-layers 4 \\\n",
        "    --decoder-embed-dim 512 --decoder-ffn-embed-dim 1024 --decoder-attention-heads 4 --decoder-layers 4 \\\n",
        "    --share-decoder-input-output-embed \\\n",
        "    --optimizer adam --adam-betas '(0.9, 0.999)' --clip-norm 1.0 \\\n",
        "    --lr 1e-3 --lr-scheduler inverse_sqrt --warmup-updates 2000 \\\n",
        "    --dropout 0.2 --weight-decay 0.0001 \\\n",
        "    --criterion label_smoothed_cross_entropy --label-smoothing 0.1 \\\n",
        "    --max-tokens 8000 > 91.log\n",
        "# epoch 001: 100% 1812/1813 [08:17<00:00,  3.56it/s, loss=7.004, nll_loss=5.627, ppl=49.41, wps=24782, ups=3.63, wpb=6820.1, bsz=222.9, num_updates=1800, lr=0.0009, gnorm=0.68, clip=6, loss_scale=8, train_wall=27, gb_free=8.1, wall=495]\n",
        "# epoch 002: 100% 1812/1813 [08:19<00:00,  3.50it/s, loss=5.837, nll_loss=4.281, ppl=19.44, wps=23867.5, ups=3.66, wpb=6515.8, bsz=237.1, num_updates=3600, lr=0.000745356, gnorm=0.529, clip=5, loss_scale=8, train_wall=27, gb_free=7.7, wall=1007]\n",
        "# epoch 003: 100% 1812/1813 [08:18<00:00,  3.73it/s, loss=5.258, nll_loss=3.617, ppl=12.27, wps=24933.4, ups=3.58, wpb=6963.6, bsz=287, num_updates=5400, lr=0.000608581, gnorm=0.492, clip=3, loss_scale=8, train_wall=28, gb_free=7.8, wall=1517]\n",
        "# runing time:26min2sec"
      ],
      "metadata": {
        "id": "QInpmNjsxR1l",
        "colab": {
          "base_uri": "https://localhost:8080/"
        },
        "outputId": "413c9c81-a473-4d57-ba5e-a54e1a95005b"
      },
      "execution_count": 16,
      "outputs": [
        {
          "output_type": "stream",
          "name": "stdout",
          "text": [
            "epoch 001: 100% 1812/1813 [08:17<00:00,  3.56it/s, loss=7.004, nll_loss=5.627, ppl=49.41, wps=24782, ups=3.63, wpb=6820.1, bsz=222.9, num_updates=1800, lr=0.0009, gnorm=0.68, clip=6, loss_scale=8, train_wall=27, gb_free=8.1, wall=495]\n",
            "epoch 001 | valid on 'valid' subset:   0% 0/8 [00:00<?, ?it/s]\u001b[A\n",
            "epoch 001 | valid on 'valid' subset:  12% 1/8 [00:00<00:00,  7.54it/s]\u001b[A\n",
            "epoch 001 | valid on 'valid' subset:  38% 3/8 [00:00<00:00, 10.72it/s]\u001b[A\n",
            "epoch 001 | valid on 'valid' subset:  62% 5/8 [00:00<00:00, 11.47it/s]\u001b[A\n",
            "epoch 001 | valid on 'valid' subset:  88% 7/8 [00:00<00:00, 13.14it/s]\u001b[A\n",
            "epoch 002: 100% 1812/1813 [08:19<00:00,  3.50it/s, loss=5.837, nll_loss=4.281, ppl=19.44, wps=23867.5, ups=3.66, wpb=6515.8, bsz=237.1, num_updates=3600, lr=0.000745356, gnorm=0.529, clip=5, loss_scale=8, train_wall=27, gb_free=7.7, wall=1007]\n",
            "epoch 002 | valid on 'valid' subset:   0% 0/8 [00:00<?, ?it/s]\u001b[A\n",
            "epoch 002 | valid on 'valid' subset:  12% 1/8 [00:00<00:00,  9.24it/s]\u001b[A\n",
            "epoch 002 | valid on 'valid' subset:  38% 3/8 [00:00<00:00, 11.62it/s]\u001b[A\n",
            "epoch 002 | valid on 'valid' subset:  62% 5/8 [00:00<00:00, 11.99it/s]\u001b[A\n",
            "epoch 002 | valid on 'valid' subset:  88% 7/8 [00:00<00:00, 13.55it/s]\u001b[A\n",
            "epoch 003: 100% 1812/1813 [08:18<00:00,  3.73it/s, loss=5.258, nll_loss=3.617, ppl=12.27, wps=24933.4, ups=3.58, wpb=6963.6, bsz=287, num_updates=5400, lr=0.000608581, gnorm=0.492, clip=3, loss_scale=8, train_wall=28, gb_free=7.8, wall=1517]\n",
            "epoch 003 | valid on 'valid' subset:   0% 0/8 [00:00<?, ?it/s]\u001b[A\n",
            "epoch 003 | valid on 'valid' subset:  25% 2/8 [00:00<00:00, 10.82it/s]\u001b[A\n",
            "epoch 003 | valid on 'valid' subset:  50% 4/8 [00:00<00:00, 12.06it/s]\u001b[A\n",
            "epoch 003 | valid on 'valid' subset:  75% 6/8 [00:00<00:00, 12.28it/s]\u001b[A\n"
          ]
        }
      ]
    },
    {
      "cell_type": "markdown",
      "source": [
        "## knock92 機械翻訳モデルの適用\n",
        "91で学習したニューラル機械翻訳モデルを用い，与えられた（任意の）日本語の文を英語に翻訳するプログラムを実装せよ．"
      ],
      "metadata": {
        "id": "IsKX8JdzeSpS"
      }
    },
    {
      "cell_type": "code",
      "source": [
        "!pip install tensorboardX"
      ],
      "metadata": {
        "id": "9Xq5PZZeAnD7"
      },
      "execution_count": null,
      "outputs": []
    },
    {
      "cell_type": "code",
      "source": [
        "!fairseq-interactive data91 \\\n",
        "--path save91/checkpoint3.pt \\\n",
        "--buffer-size 1024 \\\n",
        "--batch-size 128 \\\n",
        "--beam 5 \\\n",
        "--lenpen 0.6 \\\n",
        "< test.spacy.ja | grep '^H' | cut -f3 > 92.en.out\n",
        "# [ja] dictionary: 49320 types\n",
        "# [en] dictionary: 55472 types\n",
        "# Total time: 27.169 seconds; translation time: 16.299"
      ],
      "metadata": {
        "id": "zI9AxffHewZK",
        "colab": {
          "base_uri": "https://localhost:8080/"
        },
        "outputId": "9df4b841-6e5f-4f84-b3f1-040574dfad57"
      },
      "execution_count": 18,
      "outputs": [
        {
          "output_type": "stream",
          "name": "stdout",
          "text": [
            "2022-07-23 10:27:02 | INFO | fairseq_cli.interactive | {'_name': None, 'common': {'_name': None, 'no_progress_bar': False, 'log_interval': 100, 'log_format': None, 'log_file': None, 'aim_repo': None, 'aim_run_hash': None, 'tensorboard_logdir': None, 'wandb_project': None, 'azureml_logging': False, 'seed': 1, 'cpu': False, 'tpu': False, 'bf16': False, 'memory_efficient_bf16': False, 'fp16': False, 'memory_efficient_fp16': False, 'fp16_no_flatten_grads': False, 'fp16_init_scale': 128, 'fp16_scale_window': None, 'fp16_scale_tolerance': 0.0, 'on_cpu_convert_precision': False, 'min_loss_scale': 0.0001, 'threshold_loss_scale': None, 'amp': False, 'amp_batch_retries': 2, 'amp_init_scale': 128, 'amp_scale_window': None, 'user_dir': None, 'empty_cache_freq': 0, 'all_gather_list_size': 16384, 'model_parallel_size': 1, 'quantization_config_path': None, 'profile': False, 'reset_logging': False, 'suppress_crashes': False, 'use_plasma_view': False, 'plasma_path': '/tmp/plasma'}, 'common_eval': {'_name': None, 'path': 'save91/checkpoint3.pt', 'post_process': None, 'quiet': False, 'model_overrides': '{}', 'results_path': None}, 'distributed_training': {'_name': None, 'distributed_world_size': 1, 'distributed_num_procs': 1, 'distributed_rank': 0, 'distributed_backend': 'nccl', 'distributed_init_method': None, 'distributed_port': -1, 'device_id': 0, 'distributed_no_spawn': False, 'ddp_backend': 'pytorch_ddp', 'ddp_comm_hook': 'none', 'bucket_cap_mb': 25, 'fix_batches_to_gpus': False, 'find_unused_parameters': False, 'gradient_as_bucket_view': False, 'fast_stat_sync': False, 'heartbeat_timeout': -1, 'broadcast_buffers': False, 'slowmo_momentum': None, 'slowmo_base_algorithm': 'localsgd', 'localsgd_frequency': 3, 'nprocs_per_node': 1, 'pipeline_model_parallel': False, 'pipeline_balance': None, 'pipeline_devices': None, 'pipeline_chunks': 0, 'pipeline_encoder_balance': None, 'pipeline_encoder_devices': None, 'pipeline_decoder_balance': None, 'pipeline_decoder_devices': None, 'pipeline_checkpoint': 'never', 'zero_sharding': 'none', 'fp16': False, 'memory_efficient_fp16': False, 'tpu': False, 'no_reshard_after_forward': False, 'fp32_reduce_scatter': False, 'cpu_offload': False, 'use_sharded_state': False, 'not_fsdp_flatten_parameters': False}, 'dataset': {'_name': None, 'num_workers': 1, 'skip_invalid_size_inputs_valid_test': False, 'max_tokens': None, 'batch_size': 128, 'required_batch_size_multiple': 8, 'required_seq_len_multiple': 1, 'dataset_impl': None, 'data_buffer_size': 10, 'train_subset': 'train', 'valid_subset': 'valid', 'combine_valid_subsets': None, 'ignore_unused_valid_subsets': False, 'validate_interval': 1, 'validate_interval_updates': 0, 'validate_after_updates': 0, 'fixed_validation_seed': None, 'disable_validation': False, 'max_tokens_valid': None, 'batch_size_valid': 128, 'max_valid_steps': None, 'curriculum': 0, 'gen_subset': 'test', 'num_shards': 1, 'shard_id': 0, 'grouped_shuffling': False, 'update_epoch_batch_itr': False, 'update_ordered_indices_seed': False}, 'optimization': {'_name': None, 'max_epoch': 0, 'max_update': 0, 'stop_time_hours': 0.0, 'clip_norm': 0.0, 'sentence_avg': False, 'update_freq': [1], 'lr': [0.25], 'stop_min_lr': -1.0, 'use_bmuf': False, 'skip_remainder_batch': False}, 'checkpoint': {'_name': None, 'save_dir': 'checkpoints', 'restore_file': 'checkpoint_last.pt', 'continue_once': None, 'finetune_from_model': None, 'reset_dataloader': False, 'reset_lr_scheduler': False, 'reset_meters': False, 'reset_optimizer': False, 'optimizer_overrides': '{}', 'save_interval': 1, 'save_interval_updates': 0, 'keep_interval_updates': -1, 'keep_interval_updates_pattern': -1, 'keep_last_epochs': -1, 'keep_best_checkpoints': -1, 'no_save': False, 'no_epoch_checkpoints': False, 'no_last_checkpoints': False, 'no_save_optimizer_state': False, 'best_checkpoint_metric': 'loss', 'maximize_best_checkpoint_metric': False, 'patience': -1, 'checkpoint_suffix': '', 'checkpoint_shard_count': 1, 'load_checkpoint_on_all_dp_ranks': False, 'write_checkpoints_asynchronously': False, 'model_parallel_size': 1}, 'bmuf': {'_name': None, 'block_lr': 1.0, 'block_momentum': 0.875, 'global_sync_iter': 50, 'warmup_iterations': 500, 'use_nbm': False, 'average_sync': False, 'distributed_world_size': 1}, 'generation': {'_name': None, 'beam': 5, 'nbest': 1, 'max_len_a': 0.0, 'max_len_b': 200, 'min_len': 1, 'match_source_len': False, 'unnormalized': False, 'no_early_stop': False, 'no_beamable_mm': False, 'lenpen': 0.6, 'unkpen': 0.0, 'replace_unk': None, 'sacrebleu': False, 'score_reference': False, 'prefix_size': 0, 'no_repeat_ngram_size': 0, 'sampling': False, 'sampling_topk': -1, 'sampling_topp': -1.0, 'constraints': None, 'temperature': 1.0, 'diverse_beam_groups': -1, 'diverse_beam_strength': 0.5, 'diversity_rate': -1.0, 'print_alignment': None, 'print_step': False, 'lm_path': None, 'lm_weight': 0.0, 'iter_decode_eos_penalty': 0.0, 'iter_decode_max_iter': 10, 'iter_decode_force_max_iter': False, 'iter_decode_with_beam': 1, 'iter_decode_with_external_reranker': False, 'retain_iter_history': False, 'retain_dropout': False, 'retain_dropout_modules': None, 'decoding_format': None, 'no_seed_provided': False, 'eos_token': None}, 'eval_lm': {'_name': None, 'output_word_probs': False, 'output_word_stats': False, 'context_window': 0, 'softmax_batch': 9223372036854775807}, 'interactive': {'_name': None, 'buffer_size': 1024, 'input': '-'}, 'model': None, 'task': {'_name': 'translation', 'data': 'data91', 'source_lang': None, 'target_lang': None, 'load_alignments': False, 'left_pad_source': True, 'left_pad_target': False, 'max_source_positions': 1024, 'max_target_positions': 1024, 'upsample_primary': -1, 'truncate_source': False, 'num_batch_buckets': 0, 'train_subset': 'train', 'dataset_impl': None, 'required_seq_len_multiple': 1, 'eval_bleu': False, 'eval_bleu_args': '{}', 'eval_bleu_detok': 'space', 'eval_bleu_detok_args': '{}', 'eval_tokenized_bleu': False, 'eval_bleu_remove_bpe': None, 'eval_bleu_print_samples': False}, 'criterion': {'_name': 'cross_entropy', 'sentence_avg': True}, 'optimizer': None, 'lr_scheduler': {'_name': 'fixed', 'force_anneal': None, 'lr_shrink': 0.1, 'warmup_updates': 0, 'lr': [0.25]}, 'scoring': {'_name': 'bleu', 'pad': 1, 'eos': 2, 'unk': 3}, 'bpe': None, 'tokenizer': None, 'ema': {'_name': None, 'store_ema': False, 'ema_decay': 0.9999, 'ema_start_update': 0, 'ema_seed_model': None, 'ema_update_freq': 1, 'ema_fp32': False}}\n",
            "2022-07-23 10:27:02 | INFO | fairseq.tasks.translation | [ja] dictionary: 49320 types\n",
            "2022-07-23 10:27:02 | INFO | fairseq.tasks.translation | [en] dictionary: 55472 types\n",
            "2022-07-23 10:27:02 | INFO | fairseq_cli.interactive | loading model(s) from save91/checkpoint3.pt\n",
            "2022-07-23 10:27:09 | INFO | fairseq_cli.interactive | Sentence buffer size: 1024\n",
            "2022-07-23 10:27:09 | INFO | fairseq_cli.interactive | NOTE: hypothesis and token scores are output in base 2\n",
            "2022-07-23 10:27:09 | INFO | fairseq_cli.interactive | Type the input sentence and press return:\n",
            "2022-07-23 10:27:29 | INFO | fairseq_cli.interactive | Total time: 27.169 seconds; translation time: 16.299\n"
          ]
        }
      ]
    },
    {
      "cell_type": "code",
      "source": [
        "with open('92.en.out') as f:\n",
        "  data = f.readlines()\n",
        "  print(len(data))   # 1160\n",
        "  for line in data[:9]:\n",
        "    print(line)\n",
        "    \n",
        "# <unk>\n",
        "# Dogen was a Zen monk in the early Kamakura period .\n",
        "# He was the founder of the Soto sect .\n",
        "# He was also called <unk> in his later years .\n",
        "# In the same sect , he was called Koso .\n",
        "# His posthumous name was <unk> and <unk> .\n",
        "# It is generally called Dogen Zenji .\n",
        "# It is said that in Japan , it spread manners and cleaning .\n",
        "# There is a theory that he brought back to Japan first ."
      ],
      "metadata": {
        "id": "OcKkxHXu-xMp"
      },
      "execution_count": null,
      "outputs": []
    },
    {
      "cell_type": "markdown",
      "source": [
        "## knock93 BLEUスコアの計測\n",
        "91で学習したニューラル機械翻訳モデルの品質を調べるため，評価データにおけるBLEUスコアを測定せよ."
      ],
      "metadata": {
        "id": "Op0-95NFecMY"
      }
    },
    {
      "cell_type": "code",
      "source": [
        "!fairseq-score --sys 92.en.out --ref test.spacy.en > 93.bleu"
      ],
      "metadata": {
        "id": "urdgkoRU9ISO"
      },
      "execution_count": 20,
      "outputs": []
    },
    {
      "cell_type": "code",
      "source": [
        "with open('93.bleu') as f:\n",
        "  data = f.readlines()\n",
        "  print(len(data))   # 2\n",
        "  for line in data[:9]:\n",
        "    print(line)\n",
        "    \n",
        "# Namespace(ignore_case=False, order=4, ref='test.spacy.en', sacrebleu=False, sentence_bleu=False, sys='92.en.out')\n",
        "# BLEU4 = 19.65, 52.2/26.2/15.2/9.5 (BP=0.931, ratio=0.933, syslen=25794, reflen=27636)"
      ],
      "metadata": {
        "id": "onI5euQgBIlE",
        "colab": {
          "base_uri": "https://localhost:8080/"
        },
        "outputId": "c90f1698-7d46-4b8f-c9fb-4a166dc0f47b"
      },
      "execution_count": 21,
      "outputs": [
        {
          "output_type": "stream",
          "name": "stdout",
          "text": [
            "2\n",
            "Namespace(ignore_case=False, order=4, ref='test.spacy.en', sacrebleu=False, sentence_bleu=False, sys='92.en.out')\n",
            "\n",
            "BLEU4 = 19.65, 52.2/26.2/15.2/9.5 (BP=0.931, ratio=0.933, syslen=25794, reflen=27636)\n",
            "\n"
          ]
        }
      ]
    },
    {
      "cell_type": "code",
      "source": [
        "!pip install sacrebleu\n",
        "# doc: https://github.com/mjpost/sacrebleu"
      ],
      "metadata": {
        "id": "vOD8WYFFZC1H"
      },
      "execution_count": null,
      "outputs": []
    },
    {
      "cell_type": "code",
      "source": [
        "# using your own refernce file\n",
        "# pass the refer_file as a positional argument to sacrebleu :sacrebleu ref.detok.txt -i output.detok.txt -m bleu\n",
        "# or redirect the system info STDIN: cat ouput.detok.txt | sacrebleu ref.detok.txt -m bleu\n",
        "! cat 92.en.out | sacrebleu test.spacy.en -m bleu -f text\n",
        "# BLEU|nrefs:1|case:mixed|eff:no|tok:13a|smooth:exp|version:2.1.0 = 19.7 49.1/24.6/14.3/8.9 (BP = 0.993 ratio = 0.993 hyp_len = 27547 ref_len = 27749)"
      ],
      "metadata": {
        "id": "KMg8L_d5Z2NA",
        "colab": {
          "base_uri": "https://localhost:8080/"
        },
        "outputId": "00e8bdc4-807e-47ac-905e-7cd1ad2a8bf4"
      },
      "execution_count": 23,
      "outputs": [
        {
          "output_type": "stream",
          "name": "stdout",
          "text": [
            "sacreBLEU: That's 100 lines that end in a tokenized period ('.')\n",
            "sacreBLEU: It looks like you forgot to detokenize your test data, which may hurt your score.\n",
            "sacreBLEU: If you insist your data is detokenized, or don't care, you can suppress this message with the `force` parameter.\n",
            "BLEU|nrefs:1|case:mixed|eff:no|tok:13a|smooth:exp|version:2.1.0 = 19.7 49.1/24.6/14.3/8.9 (BP = 0.993 ratio = 0.993 hyp_len = 27547 ref_len = 27749)\n",
            "\u001b[0m"
          ]
        }
      ]
    },
    {
      "cell_type": "markdown",
      "source": [
        "## knock94 ビーム探索\n",
        "91で学習したニューラル機械翻訳モデルで翻訳文をデコードする際に，ビーム探索を導入せよ．ビーム幅を1から100くらいまで適当に変化させながら，開発セット上のBLEUスコアの変化をプロットせよ．"
      ],
      "metadata": {
        "id": "FHrPHNvNekYN"
      }
    },
    {
      "cell_type": "code",
      "source": [
        "%%bash\n",
        "for N in `seq 5 10`; do\n",
        "  fairseq-interactive --path save91/checkpoint_best.pt --beam $N data91 < test.spacy.ja | grep '^H' | cut -f3 > 94.beam$N.out\n",
        "  done\n"
      ],
      "metadata": {
        "id": "oQEbMwJWBiy6"
      },
      "execution_count": null,
      "outputs": []
    },
    {
      "cell_type": "code",
      "source": [
        "%%bash\n",
        "for N in `seq 5 10`; do\n",
        "  fairseq-score --sys 94.beam$N.out --ref test.spacy.en | tee 94.beam$N.score\n",
        "  done\n",
        "# Namespace(ignore_case=False, order=4, ref='test.spacy.en', sacrebleu=False, sentence_bleu=False, sys='94.beam5.out')\n",
        "# BLEU4 = 17.96, 50.8/24.7/13.7/8.2 (BP=0.927, ratio=0.929, syslen=24311, reflen=26155)\n",
        "# Namespace(ignore_case=False, order=4, ref='test.spacy.en', sacrebleu=False, sentence_bleu=False, sys='94.beam6.out')\n",
        "# BLEU4 = 17.81, 51.4/24.9/13.8/8.2 (BP=0.912, ratio=0.916, syslen=23955, reflen=26155)\n",
        "# Namespace(ignore_case=False, order=4, ref='test.spacy.en', sacrebleu=False, sentence_bleu=False, sys='94.beam7.out')\n",
        "# BLEU4 = 17.71, 50.8/24.6/13.6/8.1 (BP=0.920, ratio=0.923, syslen=24133, reflen=26155)\n",
        "# Namespace(ignore_case=False, order=4, ref='test.spacy.en', sacrebleu=False, sentence_bleu=False, sys='94.beam8.out')\n",
        "# BLEU4 = 17.96, 51.0/24.8/13.7/8.2 (BP=0.925, ratio=0.927, syslen=24258, reflen=26155)\n",
        "# Namespace(ignore_case=False, order=4, ref='test.spacy.en', sacrebleu=False, sentence_bleu=False, sys='94.beam9.out')\n",
        "# BLEU4 = 17.93, 51.4/25.1/13.9/8.4 (BP=0.911, ratio=0.914, syslen=23915, reflen=26155)\n",
        "# Namespace(ignore_case=False, order=4, ref='test.spacy.en', sacrebleu=False, sentence_bleu=False, sys='94.beam10.out')\n",
        "# BLEU4 = 18.08, 51.1/24.9/13.8/8.3 (BP=0.924, ratio=0.927, syslen=24234, reflen=26155)"
      ],
      "metadata": {
        "id": "OJOGjfFp8IC4"
      },
      "execution_count": null,
      "outputs": []
    },
    {
      "cell_type": "code",
      "source": [
        "%%bash\n",
        "for N in `seq 10 15`; do\n",
        "  fairseq-interactive data91 \\\n",
        "  --path save91/checkpoint_best.pt \\\n",
        "  --beam $N \\\n",
        "  < test.spacy.ja | grep '^H' | cut -f3 > 94.beam$N.out\n",
        "  done\n",
        "# runing time:24min40sec"
      ],
      "metadata": {
        "id": "XIyaSzU2Dsx8"
      },
      "execution_count": null,
      "outputs": []
    },
    {
      "cell_type": "code",
      "source": [
        "%%bash\n",
        "for N in `seq 10 15`; do\n",
        "  fairseq-score --sys 94.beam$N.out --ref test.spacy.en > 94.beam$N.score\n",
        "  done"
      ],
      "metadata": {
        "id": "FE3R-BFB-gJK"
      },
      "execution_count": 25,
      "outputs": []
    },
    {
      "cell_type": "code",
      "source": [
        "%%bash\n",
        "for N in `seq 10 15`; do\n",
        "  cat 94.beam$N.score\n",
        "  done\n",
        "\n",
        "# Namespace(ignore_case=False, order=4, ref='test.spacy.en', sacrebleu=False, sentence_bleu=False, sys='94.beam10.out')\n",
        "# BLEU4 = 20.27, 51.1/25.6/14.9/9.3 (BP=0.982, ratio=0.982, syslen=27145, reflen=27636)\n",
        "# Namespace(ignore_case=False, order=4, ref='test.spacy.en', sacrebleu=False, sentence_bleu=False, sys='94.beam11.out')\n",
        "# BLEU4 = 20.22, 50.9/25.5/14.9/9.3 (BP=0.984, ratio=0.984, syslen=27201, reflen=27636)\n",
        "# Namespace(ignore_case=False, order=4, ref='test.spacy.en', sacrebleu=False, sentence_bleu=False, sys='94.beam12.out')\n",
        "# BLEU4 = 20.20, 51.3/25.6/14.9/9.3 (BP=0.978, ratio=0.979, syslen=27044, reflen=27636)\n",
        "# Namespace(ignore_case=False, order=4, ref='test.spacy.en', sacrebleu=False, sentence_bleu=False, sys='94.beam13.out')\n",
        "# BLEU4 = 20.26, 51.3/25.6/15.0/9.4 (BP=0.978, ratio=0.978, syslen=27035, reflen=27636)\n",
        "# Namespace(ignore_case=False, order=4, ref='test.spacy.en', sacrebleu=False, sentence_bleu=False, sys='94.beam14.out')\n",
        "# BLEU4 = 20.27, 51.3/25.7/15.0/9.4 (BP=0.977, ratio=0.977, syslen=26995, reflen=27636)\n",
        "# Namespace(ignore_case=False, order=4, ref='test.spacy.en', sacrebleu=False, sentence_bleu=False, sys='94.beam15.out')\n",
        "# BLEU4 = 20.32, 51.6/25.9/15.2/9.5 (BP=0.969, ratio=0.970, syslen=26801, reflen=27636)"
      ],
      "metadata": {
        "id": "83DLf8ef982P",
        "colab": {
          "base_uri": "https://localhost:8080/"
        },
        "outputId": "bd75b1df-1fe6-45a1-bf14-2b31d78813b6"
      },
      "execution_count": 26,
      "outputs": [
        {
          "output_type": "stream",
          "name": "stdout",
          "text": [
            "Namespace(ignore_case=False, order=4, ref='test.spacy.en', sacrebleu=False, sentence_bleu=False, sys='94.beam10.out')\n",
            "BLEU4 = 20.27, 51.1/25.6/14.9/9.3 (BP=0.982, ratio=0.982, syslen=27145, reflen=27636)\n",
            "Namespace(ignore_case=False, order=4, ref='test.spacy.en', sacrebleu=False, sentence_bleu=False, sys='94.beam11.out')\n",
            "BLEU4 = 20.22, 50.9/25.5/14.9/9.3 (BP=0.984, ratio=0.984, syslen=27201, reflen=27636)\n",
            "Namespace(ignore_case=False, order=4, ref='test.spacy.en', sacrebleu=False, sentence_bleu=False, sys='94.beam12.out')\n",
            "BLEU4 = 20.20, 51.3/25.6/14.9/9.3 (BP=0.978, ratio=0.979, syslen=27044, reflen=27636)\n",
            "Namespace(ignore_case=False, order=4, ref='test.spacy.en', sacrebleu=False, sentence_bleu=False, sys='94.beam13.out')\n",
            "BLEU4 = 20.26, 51.3/25.6/15.0/9.4 (BP=0.978, ratio=0.978, syslen=27035, reflen=27636)\n",
            "Namespace(ignore_case=False, order=4, ref='test.spacy.en', sacrebleu=False, sentence_bleu=False, sys='94.beam14.out')\n",
            "BLEU4 = 20.27, 51.3/25.7/15.0/9.4 (BP=0.977, ratio=0.977, syslen=26995, reflen=27636)\n",
            "Namespace(ignore_case=False, order=4, ref='test.spacy.en', sacrebleu=False, sentence_bleu=False, sys='94.beam15.out')\n",
            "BLEU4 = 20.32, 51.6/25.9/15.2/9.5 (BP=0.969, ratio=0.970, syslen=26801, reflen=27636)\n"
          ]
        }
      ]
    },
    {
      "cell_type": "code",
      "source": [
        "import matplotlib.pyplot as plt\n",
        "\n",
        "def read_score(filename):\n",
        "  with open(filename) as f:\n",
        "    x = f.readlines()[1]\n",
        "    x = re.search(r'(?<=BLEU4 = )\\d*\\.\\d*(?=,)', x)\n",
        "  return float(x.group())\n",
        "\n",
        "xs = range(10, 16)\n",
        "ys = [read_score(f'94.beam{x}.score') for x in xs]\n",
        "plt.plot(xs, ys)\n",
        "plt.show()"
      ],
      "metadata": {
        "id": "-uIudumWB0kk",
        "colab": {
          "base_uri": "https://localhost:8080/",
          "height": 265
        },
        "outputId": "2765d4c6-b40c-4d0b-b909-28d4dbea1f59"
      },
      "execution_count": 29,
      "outputs": [
        {
          "output_type": "display_data",
          "data": {
            "text/plain": [
              "<Figure size 432x288 with 1 Axes>"
            ],
            "image/png": "[encoded data removed]"
          },
          "metadata": {
            "needs_background": "light"
          }
        }
      ]
    },
    {
      "cell_type": "markdown",
      "source": [
        "## knock95 サブワード化\n",
        "トークンの単位を単語や形態素からサブワードに変更し，91-94の実験を再度実施せよ.\n",
        "## 1．訓練データを用いて、源言語と目標言語それぞれのsentencepieceモデルを構築し、サブワード化\n",
        "\n",
        "[参照記事](https://note.com/npaka/n/n90f97543ec4b)\n",
        "\n",
        "[SentecePiece](https://github.com/google/sentencepiece)\n",
        "\n",
        "言語を処理する時、テキストをまず「トークン」に分割して、それを「ベクトル表現」に変換する。\n",
        "* 形態素解析して得た「単語」は利用上に問題点ある:\n",
        "\n",
        "語彙数が膨大で、高頻度語彙のみに限定している。低頻度語彙が捨てられて未知語として扱われている。\n",
        "* SentencePieceの手順:\n",
        "\n",
        "まず、テキストを単語に分割し、各単語の頻度を求める。\n",
        "次は、低頻度単語は1語彙として扱い、より短い語彙に分割する。\n",
        "語彙数が事前に指定したサイズになるまで、分割を繰り返します。\n",
        "\n",
        "## 2．91-94の実験を再度実施\n",
        "* sentencepieceモデルを学習(教師なし学習)\n",
        "* preprocessでバイナリデータにする\n",
        "* 推論時のbeam_sizeを変えながら、BLUEスコアを計算し、可視化する "
      ],
      "metadata": {
        "id": "fXzA0Xbk_f6N"
      }
    },
    {
      "cell_type": "code",
      "source": [
        "!pip install sentencepiece"
      ],
      "metadata": {
        "id": "GO5EfOHI7JWk"
      },
      "execution_count": null,
      "outputs": []
    },
    {
      "cell_type": "code",
      "source": [
        "import sentencepiece as spm\n",
        "import re\n",
        "\n",
        "# 学習の実行\n",
        "spm.SentencePieceTrainer.Train(\n",
        "    '--input=/content/kftt-data-1.0/data/orig/kyoto-train.ja --model_prefix=kyoto_ja --vocab_size=16000 --character_coverage=0.9995')\n",
        "\n",
        "# 学習済み単語分割モデルを用いて日本語dataをsubword化\n",
        "sp = spm.SentencePieceProcessor()\n",
        "sp.Load('kyoto_ja.model')\n",
        "\n",
        "for src, dst in [\n",
        "  ('kftt-data-1.0/data/orig/kyoto-train.ja', 'train.sub.ja'),\n",
        "  ('kftt-data-1.0/data/orig/kyoto-dev.ja', 'dev.sub.ja'),\n",
        "  ('kftt-data-1.0/data/orig/kyoto-test.ja', 'test.sub.ja')\n",
        "]:\n",
        "  with open(src, 'r') as rf, open(dst, 'w') as wf:\n",
        "    for x in rf:\n",
        "      x = x.strip()\n",
        "      x = re.sub(r'\\s+', ' ', x)\n",
        "      x = sp.encode_as_pieces(x)\n",
        "      x = ' '.join(x)\n",
        "      print(x, file=wf)\n",
        "\n",
        "# runing time: 4min37sec"
      ],
      "metadata": {
        "id": "mJ6Er0NJEClI"
      },
      "execution_count": 31,
      "outputs": []
    },
    {
      "cell_type": "code",
      "source": [
        "# 英語をsubword化\n",
        "!pip install subword-nmt\n",
        "\n",
        "!subword-nmt learn-bpe -s 16000 < kftt-data-1.0/data/orig/kyoto-train.en > kyoto_en.codes\n",
        "!subword-nmt apply-bpe -c kyoto_en.codes < kftt-data-1.0/data/orig/kyoto-train.en > train.sub.en\n",
        "!subword-nmt apply-bpe -c kyoto_en.codes < kftt-data-1.0/data/orig/kyoto-dev.en > dev.sub.en\n",
        "!subword-nmt apply-bpe -c kyoto_en.codes < kftt-data-1.0/data/orig/kyoto-test.en > test.sub.en\n",
        "\n",
        "# runing time:1min56sec  \n",
        "# vocab_size:16000"
      ],
      "metadata": {
        "id": "Z8Qg-Ov3NZrr"
      },
      "execution_count": null,
      "outputs": []
    },
    {
      "cell_type": "code",
      "source": [
        "# binarize data\n",
        "!fairseq-preprocess -s ja -t en\\\n",
        "    --trainpref train.sub \\\n",
        "    --validpref dev.sub \\\n",
        "    --testpref test.sub \\\n",
        "    --tokenizer space \\\n",
        "    --workers 20 \\\n",
        "    --thresholdsrc 3 \\\n",
        "    --thresholdtgt 3 \\\n",
        "    --task translation \\\n",
        "    --workers 20 \\\n",
        "    --destdir knock95_subwords_sp\n",
        "\n",
        "# Namespace(aim_repo=None, aim_run_hash=None, align_suffix=None, alignfile=None, all_gather_list_size=16384, amp=False, amp_batch_retries=2, amp_init_scale=128, amp_scale_window=None, azureml_logging=False, bf16=False, bpe=None, cpu=False, criterion='cross_entropy', dataset_impl='mmap', destdir='knock95_subwords_sp', dict_only=False, empty_cache_freq=0, fp16=False, fp16_init_scale=128, fp16_no_flatten_grads=False, fp16_scale_tolerance=0.0, fp16_scale_window=None, joined_dictionary=False, log_file=None, log_format=None, log_interval=100, lr_scheduler='fixed', memory_efficient_bf16=False, memory_efficient_fp16=False, min_loss_scale=0.0001, model_parallel_size=1, no_progress_bar=False, nwordssrc=-1, nwordstgt=-1, on_cpu_convert_precision=False, only_source=False, optimizer=None, padding_factor=8, plasma_path='/tmp/plasma', profile=False, quantization_config_path=None, reset_logging=False, scoring='bleu', seed=1, source_lang='ja', srcdict=None, suppress_crashes=False, target_lang='en', task='translation', tensorboard_logdir=None, testpref='test.sub', tgtdict=None, threshold_loss_scale=None, thresholdsrc=3, thresholdtgt=3, tokenizer='space', tpu=False, trainpref='train.sub', use_plasma_view=False, user_dir=None, validpref='dev.sub', wandb_project=None, workers=20)\n",
        "# [ja] Dictionary: 17048 types\n",
        "# [ja] train.sub.ja: 440288 sents, 10462018 tokens, 0.0147% replaced (by <unk>)\n",
        "# [ja] Dictionary: 17048 types\n",
        "# [ja] dev.sub.ja: 1166 sents, 24223 tokens, 0.0206% replaced (by <unk>)\n",
        "# [ja] Dictionary: 17048 types\n",
        "# [ja] test.sub.ja: 1160 sents, 26130 tokens, 0.0153% replaced (by <unk>)\n",
        "# [en] Dictionary: 18656 types\n",
        "# [en] train.sub.en: 440288 sents, 13280091 tokens, 0.022% replaced (by <unk>)\n",
        "# [en] Dictionary: 18656 types\n",
        "# [en] dev.sub.en: 1166 sents, 29011 tokens, 0.0103% replaced (by <unk>)\n",
        "# [en] Dictionary: 18656 types\n",
        "# [en] test.sub.en: 1160 sents, 31468 tokens, 0.0254% replaced (by <unk>)\n",
        "# Wrote preprocessed data to knock95_subwords_sp"
      ],
      "metadata": {
        "id": "V3TE1UI2LZ2O",
        "colab": {
          "base_uri": "https://localhost:8080/"
        },
        "outputId": "476e50e1-5dcb-4839-80a4-6301b7432721"
      },
      "execution_count": 33,
      "outputs": [
        {
          "output_type": "stream",
          "name": "stdout",
          "text": [
            "2022-07-23 11:07:49 | INFO | fairseq_cli.preprocess | Namespace(aim_repo=None, aim_run_hash=None, align_suffix=None, alignfile=None, all_gather_list_size=16384, amp=False, amp_batch_retries=2, amp_init_scale=128, amp_scale_window=None, azureml_logging=False, bf16=False, bpe=None, cpu=False, criterion='cross_entropy', dataset_impl='mmap', destdir='knock95_subwords_sp', dict_only=False, empty_cache_freq=0, fp16=False, fp16_init_scale=128, fp16_no_flatten_grads=False, fp16_scale_tolerance=0.0, fp16_scale_window=None, joined_dictionary=False, log_file=None, log_format=None, log_interval=100, lr_scheduler='fixed', memory_efficient_bf16=False, memory_efficient_fp16=False, min_loss_scale=0.0001, model_parallel_size=1, no_progress_bar=False, nwordssrc=-1, nwordstgt=-1, on_cpu_convert_precision=False, only_source=False, optimizer=None, padding_factor=8, plasma_path='/tmp/plasma', profile=False, quantization_config_path=None, reset_logging=False, scoring='bleu', seed=1, source_lang='ja', srcdict=None, suppress_crashes=False, target_lang='en', task='translation', tensorboard_logdir=None, testpref='test.sub', tgtdict=None, threshold_loss_scale=None, thresholdsrc=3, thresholdtgt=3, tokenizer='space', tpu=False, trainpref='train.sub', use_plasma_view=False, user_dir=None, validpref='dev.sub', wandb_project=None, workers=20)\n",
            "2022-07-23 11:09:08 | INFO | fairseq_cli.preprocess | [ja] Dictionary: 17048 types\n",
            "2022-07-23 11:10:31 | INFO | fairseq_cli.preprocess | [ja] train.sub.ja: 440288 sents, 10462018 tokens, 0.0147% replaced (by <unk>)\n",
            "2022-07-23 11:10:31 | INFO | fairseq_cli.preprocess | [ja] Dictionary: 17048 types\n",
            "2022-07-23 11:10:32 | INFO | fairseq_cli.preprocess | [ja] dev.sub.ja: 1166 sents, 24223 tokens, 0.0206% replaced (by <unk>)\n",
            "2022-07-23 11:10:32 | INFO | fairseq_cli.preprocess | [ja] Dictionary: 17048 types\n",
            "2022-07-23 11:10:32 | INFO | fairseq_cli.preprocess | [ja] test.sub.ja: 1160 sents, 26130 tokens, 0.0153% replaced (by <unk>)\n",
            "2022-07-23 11:10:32 | INFO | fairseq_cli.preprocess | [en] Dictionary: 18656 types\n",
            "2022-07-23 11:11:36 | INFO | fairseq_cli.preprocess | [en] train.sub.en: 440288 sents, 13280091 tokens, 0.022% replaced (by <unk>)\n",
            "2022-07-23 11:11:36 | INFO | fairseq_cli.preprocess | [en] Dictionary: 18656 types\n",
            "2022-07-23 11:11:36 | INFO | fairseq_cli.preprocess | [en] dev.sub.en: 1166 sents, 29011 tokens, 0.0103% replaced (by <unk>)\n",
            "2022-07-23 11:11:36 | INFO | fairseq_cli.preprocess | [en] Dictionary: 18656 types\n",
            "2022-07-23 11:11:37 | INFO | fairseq_cli.preprocess | [en] test.sub.en: 1160 sents, 31468 tokens, 0.0254% replaced (by <unk>)\n",
            "2022-07-23 11:11:37 | INFO | fairseq_cli.preprocess | Wrote preprocessed data to knock95_subwords_sp\n"
          ]
        }
      ]
    },
    {
      "cell_type": "code",
      "source": [
        "!fairseq-train knock95_subwords_sp \\\n",
        "    --fp16 \\\n",
        "    --save-dir save95 \\\n",
        "    --max-epoch 3 \\\n",
        "    --update-freq 1 \\\n",
        "    --encoder-normalize-before --decoder-normalize-before \\\n",
        "    --arch transformer \\\n",
        "    --encoder-embed-dim 512 --encoder-ffn-embed-dim 1024 --encoder-attention-heads 4 --encoder-layers 4 \\\n",
        "    --decoder-embed-dim 512 --decoder-ffn-embed-dim 1024 --decoder-attention-heads 4 --decoder-layers 4 \\\n",
        "    --share-decoder-input-output-embed \\\n",
        "    --optimizer adam --adam-betas '(0.9, 0.999)' --clip-norm 1.0 \\\n",
        "    --lr 1e-3 --lr-scheduler inverse_sqrt --warmup-updates 2000 \\\n",
        "    --dropout 0.2 --weight-decay 0.0001 \\\n",
        "    --criterion label_smoothed_cross_entropy --label-smoothing 0.1 \\\n",
        "    --max-tokens 8000 > 95.log\n",
        "# runing time：17min\n",
        "# epoch 001: 100% 1871/1872 [05:25<00:00,  5.56it/s, loss=7.651, nll_loss=6.528, ppl=92.29, wps=39280, ups=5.73, wpb=6859.2, bsz=229.9, num_updates=1800, lr=0.0009, gnorm=0.589, clip=3, loss_scale=8, train_wall=17, gb_free=11.5, wall=314]\n",
        "# epoch 002: 100% 1871/1872 [05:29<00:00,  5.55it/s, loss=6.236, nll_loss=4.905, ppl=29.97, wps=40979.6, ups=5.68, wpb=7209.4, bsz=251.3, num_updates=3700, lr=0.000735215, gnorm=0.452, clip=1, loss_scale=8, train_wall=17, gb_free=11.5, wall=656]\n",
        "# epoch 003: 100% 1871/1872 [05:30<00:00,  6.06it/s, loss=5.657, nll_loss=4.239, ppl=18.88, wps=39881.1, ups=5.64, wpb=7070.2, bsz=237.4, num_updates=5600, lr=0.000597614, gnorm=0.457, clip=2, loss_scale=8, train_wall=17, gb_free=11.3, wall=999]\n"
      ],
      "metadata": {
        "id": "wVvMKiinMMt5",
        "colab": {
          "base_uri": "https://localhost:8080/"
        },
        "outputId": "974faa4c-c136-46cc-a6ce-2ca93649454f"
      },
      "execution_count": 34,
      "outputs": [
        {
          "output_type": "stream",
          "name": "stdout",
          "text": [
            "epoch 001: 100% 1871/1872 [05:25<00:00,  5.56it/s, loss=7.651, nll_loss=6.528, ppl=92.29, wps=39280, ups=5.73, wpb=6859.2, bsz=229.9, num_updates=1800, lr=0.0009, gnorm=0.589, clip=3, loss_scale=8, train_wall=17, gb_free=11.5, wall=314]\n",
            "epoch 001 | valid on 'valid' subset:   0% 0/9 [00:00<?, ?it/s]\u001b[A\n",
            "epoch 001 | valid on 'valid' subset:  11% 1/9 [00:00<00:00,  8.99it/s]\u001b[A\n",
            "epoch 001 | valid on 'valid' subset:  33% 3/9 [00:00<00:00, 14.95it/s]\u001b[A\n",
            "epoch 001 | valid on 'valid' subset:  67% 6/9 [00:00<00:00, 17.84it/s]\u001b[A\n",
            "epoch 002: 100% 1871/1872 [05:29<00:00,  5.55it/s, loss=6.236, nll_loss=4.905, ppl=29.97, wps=40979.6, ups=5.68, wpb=7209.4, bsz=251.3, num_updates=3700, lr=0.000735215, gnorm=0.452, clip=1, loss_scale=8, train_wall=17, gb_free=11.5, wall=656]\n",
            "epoch 002 | valid on 'valid' subset:   0% 0/9 [00:00<?, ?it/s]\u001b[A\n",
            "epoch 002 | valid on 'valid' subset:  22% 2/9 [00:00<00:00, 15.30it/s]\u001b[A\n",
            "epoch 002 | valid on 'valid' subset:  56% 5/9 [00:00<00:00, 18.93it/s]\u001b[A\n",
            "epoch 002 | valid on 'valid' subset:  78% 7/9 [00:00<00:00, 18.86it/s]\u001b[A\n",
            "epoch 003: 100% 1871/1872 [05:30<00:00,  6.06it/s, loss=5.657, nll_loss=4.239, ppl=18.88, wps=39881.1, ups=5.64, wpb=7070.2, bsz=237.4, num_updates=5600, lr=0.000597614, gnorm=0.457, clip=2, loss_scale=8, train_wall=17, gb_free=11.3, wall=999]\n",
            "epoch 003 | valid on 'valid' subset:   0% 0/9 [00:00<?, ?it/s]\u001b[A\n",
            "epoch 003 | valid on 'valid' subset:  22% 2/9 [00:00<00:00, 16.57it/s]\u001b[A\n",
            "epoch 003 | valid on 'valid' subset:  44% 4/9 [00:00<00:00, 18.20it/s]\u001b[A\n",
            "epoch 003 | valid on 'valid' subset:  67% 6/9 [00:00<00:00, 18.78it/s]\u001b[A\n"
          ]
        }
      ]
    },
    {
      "cell_type": "code",
      "source": [
        "!fairseq-interactive --path save95/checkpoint3.pt --beam 10 knock95_subwords_sp < test.spacy.ja \\\n",
        "| grep '^H' | cut -f3 |  sed -r 's/(@@ )|(@@ ?$)//g' > 95.beam10.out\n",
        "\n",
        "# !fairseq-generate knock95_subwords_sp \\\n",
        "#   --path save95/checkpoint3.pt \\\n",
        "#   --beam 10 --batch-size 128 --remove-bpe < test.spacy.ja | grep '^H' | cut -f3 > 95.beam10.out\n",
        "\n",
        "# [ja] dictionary: 17048 types\n",
        "# [en] dictionary: 18656 types\n",
        "# Total time: 379.424 seconds; translation time: 367.011"
      ],
      "metadata": {
        "id": "gbjNYn5tN28J",
        "colab": {
          "base_uri": "https://localhost:8080/"
        },
        "outputId": "c0d65ec8-ab16-4738-d3d5-0f2089d678a8"
      },
      "execution_count": 48,
      "outputs": [
        {
          "output_type": "stream",
          "name": "stdout",
          "text": [
            "2022-07-23 12:10:49 | INFO | fairseq_cli.interactive | {'_name': None, 'common': {'_name': None, 'no_progress_bar': False, 'log_interval': 100, 'log_format': None, 'log_file': None, 'aim_repo': None, 'aim_run_hash': None, 'tensorboard_logdir': None, 'wandb_project': None, 'azureml_logging': False, 'seed': 1, 'cpu': False, 'tpu': False, 'bf16': False, 'memory_efficient_bf16': False, 'fp16': False, 'memory_efficient_fp16': False, 'fp16_no_flatten_grads': False, 'fp16_init_scale': 128, 'fp16_scale_window': None, 'fp16_scale_tolerance': 0.0, 'on_cpu_convert_precision': False, 'min_loss_scale': 0.0001, 'threshold_loss_scale': None, 'amp': False, 'amp_batch_retries': 2, 'amp_init_scale': 128, 'amp_scale_window': None, 'user_dir': None, 'empty_cache_freq': 0, 'all_gather_list_size': 16384, 'model_parallel_size': 1, 'quantization_config_path': None, 'profile': False, 'reset_logging': False, 'suppress_crashes': False, 'use_plasma_view': False, 'plasma_path': '/tmp/plasma'}, 'common_eval': {'_name': None, 'path': 'save95/checkpoint3.pt', 'post_process': None, 'quiet': False, 'model_overrides': '{}', 'results_path': None}, 'distributed_training': {'_name': None, 'distributed_world_size': 1, 'distributed_num_procs': 1, 'distributed_rank': 0, 'distributed_backend': 'nccl', 'distributed_init_method': None, 'distributed_port': -1, 'device_id': 0, 'distributed_no_spawn': False, 'ddp_backend': 'pytorch_ddp', 'ddp_comm_hook': 'none', 'bucket_cap_mb': 25, 'fix_batches_to_gpus': False, 'find_unused_parameters': False, 'gradient_as_bucket_view': False, 'fast_stat_sync': False, 'heartbeat_timeout': -1, 'broadcast_buffers': False, 'slowmo_momentum': None, 'slowmo_base_algorithm': 'localsgd', 'localsgd_frequency': 3, 'nprocs_per_node': 1, 'pipeline_model_parallel': False, 'pipeline_balance': None, 'pipeline_devices': None, 'pipeline_chunks': 0, 'pipeline_encoder_balance': None, 'pipeline_encoder_devices': None, 'pipeline_decoder_balance': None, 'pipeline_decoder_devices': None, 'pipeline_checkpoint': 'never', 'zero_sharding': 'none', 'fp16': False, 'memory_efficient_fp16': False, 'tpu': False, 'no_reshard_after_forward': False, 'fp32_reduce_scatter': False, 'cpu_offload': False, 'use_sharded_state': False, 'not_fsdp_flatten_parameters': False}, 'dataset': {'_name': None, 'num_workers': 1, 'skip_invalid_size_inputs_valid_test': False, 'max_tokens': None, 'batch_size': 1, 'required_batch_size_multiple': 8, 'required_seq_len_multiple': 1, 'dataset_impl': None, 'data_buffer_size': 10, 'train_subset': 'train', 'valid_subset': 'valid', 'combine_valid_subsets': None, 'ignore_unused_valid_subsets': False, 'validate_interval': 1, 'validate_interval_updates': 0, 'validate_after_updates': 0, 'fixed_validation_seed': None, 'disable_validation': False, 'max_tokens_valid': None, 'batch_size_valid': None, 'max_valid_steps': None, 'curriculum': 0, 'gen_subset': 'test', 'num_shards': 1, 'shard_id': 0, 'grouped_shuffling': False, 'update_epoch_batch_itr': False, 'update_ordered_indices_seed': False}, 'optimization': {'_name': None, 'max_epoch': 0, 'max_update': 0, 'stop_time_hours': 0.0, 'clip_norm': 0.0, 'sentence_avg': False, 'update_freq': [1], 'lr': [0.25], 'stop_min_lr': -1.0, 'use_bmuf': False, 'skip_remainder_batch': False}, 'checkpoint': {'_name': None, 'save_dir': 'checkpoints', 'restore_file': 'checkpoint_last.pt', 'continue_once': None, 'finetune_from_model': None, 'reset_dataloader': False, 'reset_lr_scheduler': False, 'reset_meters': False, 'reset_optimizer': False, 'optimizer_overrides': '{}', 'save_interval': 1, 'save_interval_updates': 0, 'keep_interval_updates': -1, 'keep_interval_updates_pattern': -1, 'keep_last_epochs': -1, 'keep_best_checkpoints': -1, 'no_save': False, 'no_epoch_checkpoints': False, 'no_last_checkpoints': False, 'no_save_optimizer_state': False, 'best_checkpoint_metric': 'loss', 'maximize_best_checkpoint_metric': False, 'patience': -1, 'checkpoint_suffix': '', 'checkpoint_shard_count': 1, 'load_checkpoint_on_all_dp_ranks': False, 'write_checkpoints_asynchronously': False, 'model_parallel_size': 1}, 'bmuf': {'_name': None, 'block_lr': 1.0, 'block_momentum': 0.875, 'global_sync_iter': 50, 'warmup_iterations': 500, 'use_nbm': False, 'average_sync': False, 'distributed_world_size': 1}, 'generation': {'_name': None, 'beam': 10, 'nbest': 1, 'max_len_a': 0.0, 'max_len_b': 200, 'min_len': 1, 'match_source_len': False, 'unnormalized': False, 'no_early_stop': False, 'no_beamable_mm': False, 'lenpen': 1.0, 'unkpen': 0.0, 'replace_unk': None, 'sacrebleu': False, 'score_reference': False, 'prefix_size': 0, 'no_repeat_ngram_size': 0, 'sampling': False, 'sampling_topk': -1, 'sampling_topp': -1.0, 'constraints': None, 'temperature': 1.0, 'diverse_beam_groups': -1, 'diverse_beam_strength': 0.5, 'diversity_rate': -1.0, 'print_alignment': None, 'print_step': False, 'lm_path': None, 'lm_weight': 0.0, 'iter_decode_eos_penalty': 0.0, 'iter_decode_max_iter': 10, 'iter_decode_force_max_iter': False, 'iter_decode_with_beam': 1, 'iter_decode_with_external_reranker': False, 'retain_iter_history': False, 'retain_dropout': False, 'retain_dropout_modules': None, 'decoding_format': None, 'no_seed_provided': False, 'eos_token': None}, 'eval_lm': {'_name': None, 'output_word_probs': False, 'output_word_stats': False, 'context_window': 0, 'softmax_batch': 9223372036854775807}, 'interactive': {'_name': None, 'buffer_size': 1, 'input': '-'}, 'model': None, 'task': {'_name': 'translation', 'data': 'knock95_subwords_sp', 'source_lang': None, 'target_lang': None, 'load_alignments': False, 'left_pad_source': True, 'left_pad_target': False, 'max_source_positions': 1024, 'max_target_positions': 1024, 'upsample_primary': -1, 'truncate_source': False, 'num_batch_buckets': 0, 'train_subset': 'train', 'dataset_impl': None, 'required_seq_len_multiple': 1, 'eval_bleu': False, 'eval_bleu_args': '{}', 'eval_bleu_detok': 'space', 'eval_bleu_detok_args': '{}', 'eval_tokenized_bleu': False, 'eval_bleu_remove_bpe': None, 'eval_bleu_print_samples': False}, 'criterion': {'_name': 'cross_entropy', 'sentence_avg': True}, 'optimizer': None, 'lr_scheduler': {'_name': 'fixed', 'force_anneal': None, 'lr_shrink': 0.1, 'warmup_updates': 0, 'lr': [0.25]}, 'scoring': {'_name': 'bleu', 'pad': 1, 'eos': 2, 'unk': 3}, 'bpe': None, 'tokenizer': None, 'ema': {'_name': None, 'store_ema': False, 'ema_decay': 0.9999, 'ema_start_update': 0, 'ema_seed_model': None, 'ema_update_freq': 1, 'ema_fp32': False}}\n",
            "2022-07-23 12:10:49 | INFO | fairseq.tasks.translation | [ja] dictionary: 17048 types\n",
            "2022-07-23 12:10:49 | INFO | fairseq.tasks.translation | [en] dictionary: 18656 types\n",
            "2022-07-23 12:10:49 | INFO | fairseq_cli.interactive | loading model(s) from save95/checkpoint3.pt\n",
            "2022-07-23 12:10:52 | INFO | fairseq_cli.interactive | NOTE: hypothesis and token scores are output in base 2\n",
            "2022-07-23 12:10:52 | INFO | fairseq_cli.interactive | Type the input sentence and press return:\n",
            "2022-07-23 12:16:00 | INFO | fairseq_cli.interactive | Total time: 310.570 seconds; translation time: 301.446\n"
          ]
        }
      ]
    },
    {
      "cell_type": "code",
      "source": [
        "import spacy\n",
        "nlp = spacy.load('en_core_web_sm')\n",
        "def spacy_tokenize(src, dst):\n",
        "    with open(src) as f, open(dst, 'w') as g:\n",
        "        for x in f:\n",
        "            x = x.strip()\n",
        "            x = ' '.join([doc.text for doc in nlp(x)])\n",
        "            print(x, file=g)\n",
        "spacy_tokenize('95.beam10.out', '95.out.spacy')"
      ],
      "metadata": {
        "id": "FeIUd9wGS19Z"
      },
      "execution_count": 49,
      "outputs": []
    },
    {
      "cell_type": "code",
      "source": [
        "!fairseq-score --sys 95.out.spacy --ref test.spacy.en\n",
        "\n",
        "# Namespace(ignore_case=False, order=4, ref='test.spacy.en', sacrebleu=False, sentence_bleu=False, sys='95.out.spacy')\n",
        "# BLEU4 = 7.83, 25.3/10.2/5.2/2.8 (BP=1.000, ratio=1.602, syslen=44280, reflen=27636)"
      ],
      "metadata": {
        "id": "4Bi1RA4xRo26",
        "colab": {
          "base_uri": "https://localhost:8080/"
        },
        "outputId": "61f56eb0-45b9-4932-8143-fcc12015e64f"
      },
      "execution_count": 52,
      "outputs": [
        {
          "output_type": "stream",
          "name": "stdout",
          "text": [
            "Namespace(ignore_case=False, order=4, ref='test.spacy.en', sacrebleu=False, sentence_bleu=False, sys='95.out.spacy')\n",
            "BLEU4 = 7.83, 25.3/10.2/5.2/2.8 (BP=1.000, ratio=1.602, syslen=44280, reflen=27636)\n"
          ]
        }
      ]
    },
    {
      "cell_type": "markdown",
      "source": [
        "## knock96 学習過程の可視化\n",
        "Tensorboardなどのツールを用い，ニューラル機械翻訳モデルが学習されていく過程を可視化せよ．可視化する項目としては，学習データにおける損失関数の値とBLEUスコア，開発データにおける損失関数の値とBLEUスコアなどを採用せよ．"
      ],
      "metadata": {
        "id": "VnIQkIAo_s5O"
      }
    },
    {
      "cell_type": "code",
      "source": [
        "!fairseq-train knock95_subwords_sp \\\n",
        "    --fp16 \\\n",
        "    --tensorboard-logdir log96 \\\n",
        "    --save-dir save96 \\\n",
        "    --max-epoch 5 \\\n",
        "    --arch transformer --share-decoder-input-output-embed \\\n",
        "    --optimizer adam --clip-norm 1.0 \\\n",
        "    --lr 1e-3 --lr-scheduler inverse_sqrt --warmup-updates 2000 \\\n",
        "    --dropout 0.2 --weight-decay 0.0001 \\\n",
        "    --update-freq 1 \\\n",
        "    --criterion label_smoothed_cross_entropy --label-smoothing 0.1 \\\n",
        "    --max-tokens 8000 > 96.log"
      ],
      "metadata": {
        "id": "vyPpGBzyZN-K"
      },
      "execution_count": null,
      "outputs": []
    },
    {
      "cell_type": "markdown",
      "source": [
        "# knock97 ハイパー・パラメータの調整\n",
        "\n",
        "ニューラルネットワークのモデルや，そのハイパーパラメータを変更しつつ，開発データにおけるBLEUスコアが最大となるモデルとハイパーパラメータを求めよ．"
      ],
      "metadata": {
        "id": "zvsmOlz5C4IK"
      }
    },
    {
      "cell_type": "code",
      "source": [
        "#学習\n",
        "%%bash\n",
        "# training with different dropout rate\n",
        "for N in `seq 0.1 0.2 0.5`; do\n",
        "  fairseq-train knock95_subwords_sp \\\n",
        "        --save-dir checkpoints/97.train.sub.dropout_$N \\\n",
        "        --arch transformer --share-decoder-input-output-embed \\\n",
        "        --optimizer adam --adam-betas '(0.9, 0.98)' --clip-norm 0.0 \\\n",
        "        --lr 5e-4 --lr-scheduler inverse_sqrt --warmup-updates 4000 \\\n",
        "        --dropout $N --weight-decay 0.0001 \\\n",
        "        --criterion label_smoothed_cross_entropy --label-smoothing 0.1 \\\n",
        "        --max-tokens 8000 \\\n",
        "        --max-epoch 3\n",
        "done\n",
        "# have run 1hr8min too heavy"
      ],
      "metadata": {
        "id": "-RBNEG1KDFlB",
        "colab": {
          "base_uri": "https://localhost:8080/"
        },
        "outputId": "1230f26a-4c74-4182-8ea7-2a7702e4c897"
      },
      "execution_count": 71,
      "outputs": [
        {
          "output_type": "stream",
          "name": "stdout",
          "text": [
            "Process is terminated.\n"
          ]
        }
      ]
    },
    {
      "cell_type": "code",
      "source": [
        "#推論\n",
        "%%bash\n",
        "for N in `seq 0.1 0.2 0.5` ; do\n",
        "  fairseq-interactive knock95_subwords_sp \\\n",
        "    --path checkpoints/97.train.sub.dropout_$N/checkpoint_best.pt \\\n",
        "    < test.sub.ja | grep '^H' | cut -f3 | sed -r 's/(@@ )|(@@ ?$)//g' > out97/dropout_$N.out\n",
        "  done"
      ],
      "metadata": {
        "id": "-SM1rJfYACLi"
      },
      "execution_count": null,
      "outputs": []
    },
    {
      "cell_type": "code",
      "source": [
        "#BLEUスコアを計算\n",
        "%%bash\n",
        "for N in `seq 0.1 0.2 0.5` ; do\n",
        "    echo dropout=$N >> out97/score97.out \n",
        "    fairseq-score --sys out97/dropout_$N.out --ref test.spacy.en >> out97/score97.out\n",
        "  done"
      ],
      "metadata": {
        "id": "APj-_41uAf3J"
      },
      "execution_count": null,
      "outputs": []
    },
    {
      "cell_type": "markdown",
      "source": [
        "# 98.ドメイン適応\n",
        "Japanese-English Subtitle Corpus (JESC)やJParaCrawlなどの翻訳データを活用し，KFTTのテストデータの性能向上を試みよ．"
      ],
      "metadata": {
        "id": "gXR29cewDIL7"
      }
    },
    {
      "cell_type": "code",
      "source": [
        "!wget http://www.kecl.ntt.co.jp/icl/lirg/jparacrawl/release/3.0/bitext/en-ja.tar.gz"
      ],
      "metadata": {
        "id": "fm57V4Uniris"
      },
      "execution_count": null,
      "outputs": []
    },
    {
      "cell_type": "code",
      "source": [
        "import tarfile\n",
        "\n",
        "with tarfile.open('en-ja.tar.gz') as tar:\n",
        "    for f in tar.getmembers():\n",
        "        if f.name.endswith('txt'):\n",
        "            text = tar.extractfile(f).read().decode('utf-8')\n",
        "            break\n",
        "\n",
        "data = text.splitlines()\n",
        "data = [x.split('\\t') for x in data]\n",
        "data = [x for x in data if len(x) == 4]\n",
        "data = [[x[3], x[2]] for x in data]\n",
        "\n",
        "with open('jparacrawl.ja', 'w') as f, open('jparacrawl.en', 'w') as g:\n",
        "    for j, e in data:\n",
        "        print(j, file=f)\n",
        "        print(e, file=g)\n"
      ],
      "metadata": {
        "id": "9pnw2YRShFfq"
      },
      "execution_count": null,
      "outputs": []
    },
    {
      "cell_type": "code",
      "source": [
        "with open('jparacrawl.ja') as f, open('train.jparacrawl.ja', 'w') as g:\n",
        "    for x in f:\n",
        "        x = x.strip()\n",
        "        x = re.sub(r'\\s+', ' ', x)\n",
        "        x = sp.encode_as_pieces(x)\n",
        "        x = ' '.join(x)\n",
        "        print(x, file=g)"
      ],
      "metadata": {
        "id": "68noorj1h2iY"
      },
      "execution_count": null,
      "outputs": []
    },
    {
      "cell_type": "code",
      "source": [
        "# execute subword\n",
        "!subword-nmt apply-bpe -c kyoto_en.codes < jparacrawl.en > train.jparacrawl.en"
      ],
      "metadata": {
        "id": "YiNcjuT4i9RE"
      },
      "execution_count": null,
      "outputs": []
    },
    {
      "cell_type": "code",
      "source": [
        "!fairseq-preprocess -s ja -t en \\\n",
        "    --trainpref train.jparacrawl \\\n",
        "    --validpref dev.sub \\\n",
        "    --destdir data98  \\\n",
        "    --workers 20\n"
      ],
      "metadata": {
        "id": "Bb_qcK9M9HX-"
      },
      "execution_count": null,
      "outputs": []
    },
    {
      "cell_type": "code",
      "source": [
        "#学習\n",
        "%%bash\n",
        "# training with different learning rate\n",
        "for N in `seq 0.001 0.0005`; do\n",
        "  fairseq-train data98 \\\n",
        "        --fp16\n",
        "        --save-dir checkpoints/train.jparacrawl.lr_$N \\\n",
        "        --arch transformer --share-decoder-input-output-embed \\\n",
        "        --optimizer adam --adam-betas '(0.9, 0.98)' --clip-norm 0.0 \\\n",
        "        --lr $N --lr-scheduler inverse_sqrt --warmup-updates 4000 \\\n",
        "        --dropout $N --weight-decay 0.0001 \\\n",
        "        --criterion label_smoothed_cross_entropy --label-smoothing 0.1 \\\n",
        "        --max-tokens 4096 \\\n",
        "        --max-epoch 5\n",
        "  done"
      ],
      "metadata": {
        "id": "DUtC9xoL9mUA"
      },
      "execution_count": null,
      "outputs": []
    },
    {
      "cell_type": "code",
      "source": [
        "#推論\n",
        "%%bash\n",
        "for N in `seq 0.001 0.0005` ; do\n",
        "  fairseq-interactive data98 \\\n",
        "    --path checkpoints/train.jparacrawl.lr_$N/checkpoint_best.pt \\\n",
        "    < test.sub.ja | grep '^H' | cut -f3 | sed -r 's/(@@ )|(@@ ?$)//g' > out98/lr_$N.out\n",
        "  done\n"
      ],
      "metadata": {
        "id": "UURVR6d6_Cy5"
      },
      "execution_count": null,
      "outputs": []
    },
    {
      "cell_type": "code",
      "source": [
        "#BLEUスコアを計算\n",
        "%%bash\n",
        "for N in `seq 0.001 0.0005` ; do\n",
        "    echo lr=$N >> out98/score98.out \n",
        "    fairseq-score --sys out98/lr_$N.out --ref test.spacy.en >> out98/score98.out\n",
        "  done"
      ],
      "metadata": {
        "id": "Eg0m9_N6AKOn"
      },
      "execution_count": null,
      "outputs": []
    },
    {
      "cell_type": "markdown",
      "source": [
        "# 99．翻訳サーバの構築\n",
        "ユーザが翻訳したい文を入力すると，その翻訳結果がウェブブラウザ上で表示されるデモシステムを構築せよ．"
      ],
      "metadata": {
        "id": "mwRu96qgDQCO"
      }
    }
  ]
}