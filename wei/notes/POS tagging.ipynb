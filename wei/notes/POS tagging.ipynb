{
 "cells": [
  {
   "cell_type": "markdown",
   "metadata": {},
   "source": [
    "# mecab:opensource の形態素解析エンジン\n",
    "- 形態素解析\n",
    "\t- トークン化\n",
    "\t- 品詞タグ付け\n",
    "\t- レンマ化\n",
    "- 係り受け解析\n"
   ]
  },
  {
   "cell_type": "code",
   "execution_count": null,
   "metadata": {
    "collapsed": true
   },
   "outputs": [],
   "source": [
    "#　環境設置\n",
    "# %pip install mecab-python3\n",
    "# %pip install ipadic"
   ]
  },
  {
   "cell_type": "code",
   "execution_count": 7,
   "metadata": {
    "collapsed": false
   },
   "outputs": [
    {
     "name": "stdout",
     "output_type": "stream",
     "text": [
      "今日\t名詞,副詞可能,*,*,*,*,今日,キョウ,キョー\nは\t助詞,係助詞,*,*,*,*,は,ハ,ワ\nいい\t形容詞,自立,*,*,形容詞・イイ,基本形,いい,イイ,イイ\n天気\t名詞,一般,*,*,*,*,天気,テンキ,テンキ\nです\t助動詞,*,*,*,特殊・デス,基本形,です,デス,デス\nEOS\n\n"
     ]
    }
   ],
   "source": [
    "import MeCab\n",
    "import ipadic\n",
    "\n",
    "\n",
    "tagger = MeCab.Tagger(ipadic.MECAB_ARGS)\n",
    "txt =\"今日はいい天気です\"\n",
    "res = tagger.parse(txt)\n",
    "print(res)"
   ]
  },
  {
   "cell_type": "code",
   "execution_count": null,
   "metadata": {},
   "outputs": [],
   "source": []
  }
 ],
 "metadata": {
  "kernelspec": {
   "display_name": "Python 2",
   "language": "python",
   "name": "python2"
  },
  "language_info": {
   "codemirror_mode": {
    "name": "ipython",
    "version": 2
   },
   "file_extension": ".py",
   "mimetype": "text/x-python",
   "name": "python",
   "nbconvert_exporter": "python",
   "pygments_lexer": "ipython2",
   "version": "2.7.6"
  }
 },
 "nbformat": 4,
 "nbformat_minor": 0
}
