{
 "cells": [
  {
   "cell_type": "code",
   "execution_count": null,
   "metadata": {
    "id": "A3Ex2Htd5d92"
   },
   "outputs": [],
   "source": [
    "!wget https://nlp100.github.io/data/ai.ja.zip\n",
    "!unzip ai.ja.zip"
   ]
  },
  {
   "cell_type": "code",
   "execution_count": null,
   "metadata": {
    "id": "-nMSoEW251Lv"
   },
   "outputs": [],
   "source": [
    "# install mechabo\n",
    "!apt install mecab libmecab-dev mecab-ipadic-utf8"
   ]
  },
  {
   "cell_type": "code",
   "execution_count": null,
   "metadata": {
    "id": "Mdj6imBk6CAr"
   },
   "outputs": [],
   "source": [
    "# install CRF++(実行に必要)\n",
    "FILE_ID = '0B4y35FiV1wh7QVR6VXJ5dWExSTQ'\n",
    "FILE_NAME = 'crfpp.tar.gz'\n",
    "!wget 'https://docs.google.com/uc?export=download&id=$FILE_ID' -O $FILE_NAME\n",
    "!tar xvf crfpp.tar.gz\n",
    "%cd CRF++-0.58\n",
    "!./configure && make && make install && ldconfig"
   ]
  },
  {
   "cell_type": "code",
   "execution_count": null,
   "metadata": {
    "id": "nHlIa8mO6zMZ"
   },
   "outputs": [],
   "source": [
    "%cd ..\n",
    "# install CaboCha\n",
    "FILE_ID = \"0B4y35FiV1wh7SDd1Q1dUQkZQaUU\"\n",
    "FILE_NAME = \"cabocha-0.69.tar.bz2\"\n",
    "!wget --load-cookies /tmp/cookies.txt \"https://docs.google.com/uc?export=download&confirm=$(wget --quiet --save-cookies /tmp/cookies.txt --keep-session-cookies --no-check-certificate 'https://docs.google.com/uc?export=download&id=$FILE_ID' -O- | sed -rn 's/.*confirm=([0-9A-Za-z_]+).*/\\1\\n/p')&id=$FILE_ID\" -O $FILE_NAME && rm -rf /tmp/cookies.txt\n",
    "!tar -xvf cabocha-0.69.tar.bz2"
   ]
  },
  {
   "cell_type": "code",
   "execution_count": null,
   "metadata": {
    "id": "frMrB0dO7gRO"
   },
   "outputs": [],
   "source": [
    "%cd cabocha-0.69\n",
    "!./configure -with-charset=utf-8 && make && make check && make install && ldconfig\n",
    "%cd .."
   ]
  },
  {
   "cell_type": "code",
   "execution_count": 11,
   "metadata": {
    "colab": {
     "base_uri": "https://localhost:8080/"
    },
    "id": "ze7RuLLJ81lH",
    "outputId": "23bf80ae-c61b-40fd-ed0b-faf854a433a2"
   },
   "outputs": [
    {
     "name": "stdout",
     "output_type": "stream",
     "text": [
      "/content\n"
     ]
    }
   ],
   "source": [
    "%cd /content\n",
    "# 係り受け解析結果をai.ja.txt.parsdに保存\n",
    "!cabocha -f1 -o ./ai.ja.txt.parsed ai.ja.txt"
   ]
  }
 ],
 "metadata": {
  "colab": {
   "name": "1knock40_pre.ipynb",
   "provenance": []
  },
  "kernelspec": {
   "name": "python3",
   "display_name": "Python 3"
  },
  "language_info": {
   "name": "python"
  }
 },
 "nbformat": 4,
 "nbformat_minor": 0
}
