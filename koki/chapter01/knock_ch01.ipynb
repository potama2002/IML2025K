{
 "cells": [
  {
   "cell_type": "markdown",
   "metadata": {},
   "source": [
    "## Chapter01 Warm-up"
   ]
  },
  {
   "cell_type": "markdown",
   "metadata": {},
   "source": [
    "#### 00. Reversed string "
   ]
  },
  {
   "cell_type": "code",
   "execution_count": 1,
   "metadata": {},
   "outputs": [
    {
     "name": "stdout",
     "output_type": "stream",
     "text": [
      "Writing knock00.py\n"
     ]
    }
   ],
   "source": [
    "%%writefile knock00.py\n",
    "str = 'stressed'\n",
    "str = str[::-1]#始点、終点は省略\n",
    "print(str)"
   ]
  },
  {
   "cell_type": "markdown",
   "metadata": {},
   "source": [
    "### 01. "
   ]
  },
  {
   "cell_type": "code",
   "execution_count": 2,
   "metadata": {},
   "outputs": [
    {
     "name": "stdout",
     "output_type": "stream",
     "text": [
      "Writing knock01.py\n"
     ]
    }
   ],
   "source": [
    "%%writefile knock01.py\n",
    "str = 'パタトクカシーー'\n",
    "new_str = ''\n",
    "for idx, char in enumerate(str):\n",
    "    if (idx + 1) % 2 == 1:#奇数番目のみ取り出す\n",
    "       new_str += char\n",
    "    else:\n",
    "        pass\n",
    "print(new_str)"
   ]
  },
  {
   "cell_type": "markdown",
   "metadata": {},
   "source": [
    "#### 02."
   ]
  },
  {
   "cell_type": "code",
   "execution_count": 3,
   "metadata": {},
   "outputs": [
    {
     "name": "stdout",
     "output_type": "stream",
     "text": [
      "Writing knock02.py\n"
     ]
    }
   ],
   "source": [
    "%%writefile knock02.py\n",
    "str1 = 'パトカー'\n",
    "str2 = 'タクシー'\n",
    "new_str = ''\n",
    "\n",
    "for (char1, char2) in zip(str1, str2):#zip() 複数のリストをまとめる\n",
    "    new_str += char1 + char2\n",
    "print(new_str)"
   ]
  },
  {
   "cell_type": "markdown",
   "metadata": {},
   "source": [
    "#### 03."
   ]
  },
  {
   "cell_type": "code",
   "execution_count": 4,
   "metadata": {},
   "outputs": [
    {
     "name": "stdout",
     "output_type": "stream",
     "text": [
      "Writing knock03.py\n"
     ]
    }
   ],
   "source": [
    "%%writefile knock03.py\n",
    "text = 'Now I need a drink, alcoholic of course, after the heavy lectures involving quantum mechanics.'\n",
    "list_word = []\n",
    "list_n_word = []\n",
    "word = ''\n",
    "\n",
    "list_word = text.split(' ')\n",
    "\n",
    "for word in list_word:\n",
    "    list_n_word.append(len(word))\n",
    "\n",
    "print(list_n_word)"
   ]
  },
  {
   "cell_type": "code",
   "execution_count": 34,
   "metadata": {},
   "outputs": [
    {
     "name": "stdout",
     "output_type": "stream",
     "text": [
      "[3, 1, 4, 1, 5, 9, 2, 6, 5, 3, 5, 8, 9, 7, 9]\n"
     ]
    }
   ],
   "source": [
    "#「,」や「.」を処理した場合\n",
    "text = 'Now I need a drink, alcoholic of course, after the heavy lectures involving quantum mechanics.'\n",
    "list_word = []\n",
    "list_n_word = []\n",
    "word = ''\n",
    "\n",
    "text = text.replace(',','')\n",
    "text = text.replace('.','')\n",
    "list_word = text.split(' ')\n",
    "\n",
    "for word in list_word:\n",
    "    list_n_word.append(len(word))\n",
    "\n",
    "print(list_n_word)\n"
   ]
  },
  {
   "cell_type": "code",
   "execution_count": 67,
   "metadata": {},
   "outputs": [
    {
     "name": "stdout",
     "output_type": "stream",
     "text": [
      "[3, 1, 4, 1, 5, 9, 2, 6, 5, 3, 5, 8, 9, 7, 9]\n"
     ]
    }
   ],
   "source": [
    "#「,」や「.」を処理した場合 (複数同時に置換 正規表現モジュールを利用)\n",
    "#参考(re モジュール) https://qiita.com/kenTee/items/dcf63aa2895122bb3fd1\n",
    "#参考(正規表現) https://techacademy.jp/magazine/15635\n",
    "import re\n",
    "\n",
    "text = 'Now I need a drink, alcoholic of course, after the heavy lectures involving quantum mechanics.'\n",
    "\n",
    "list_word = []\n",
    "list_n_word = []\n",
    "\n",
    "def preproces(txt):\n",
    "    trans = re.sub(r'[,.]','',text)#re.sub(被置換文字の正規表現, 置換後, 対象)\n",
    "    l_trans = trans.split(' ')\n",
    "    return l_trans\n",
    "\n",
    "list_word = preproces(text)\n",
    "\n",
    "for word in list_word:\n",
    "    list_n_word.append(len(word))\n",
    "\n",
    "print(list_n_word)\n"
   ]
  },
  {
   "cell_type": "markdown",
   "metadata": {},
   "source": [
    "#### 04."
   ]
  },
  {
   "cell_type": "code",
   "execution_count": 5,
   "metadata": {},
   "outputs": [
    {
     "name": "stdout",
     "output_type": "stream",
     "text": [
      "Writing knock04.py\n"
     ]
    }
   ],
   "source": [
    "%%writefile knock04.py\n",
    "import re\n",
    "\n",
    "#前処理\n",
    "def preproces(txt):\n",
    "    trans = re.sub(r'[,.]','',text)#re.sub(被置換文字の正規表現, 置換後, 対象)\n",
    "    l_trans = trans.split(' ')\n",
    "    return l_trans\n",
    "\n",
    "text = 'Hi He Lied Because Boron Could Not Oxidize Fluorine. New Nations Might Also Sign Peace Security Clause. Arthur King Can.'\n",
    "\n",
    "trg_dict = {}\n",
    "l_index = (1,5,6,7,8,9,15,16,19)\n",
    "l_word = preproces(text)\n",
    "\n",
    "for idx, word in enumerate(l_word):\n",
    "    if idx + 1 in l_index:\n",
    "        trg_dict[word[0]] = idx + 1\n",
    "    else:\n",
    "        trg_dict[word[0:2]] = idx + 1\n",
    "\n",
    "print(trg_dict)\n"
   ]
  },
  {
   "cell_type": "markdown",
   "metadata": {},
   "source": [
    "#### 05. n-gram\n",
    "\n",
    "##### ちなみに「n-gram」とは？\n",
    "\n",
    "→連続するn個の単語や文字のまとまり\n",
    "\n",
    "(参考 : https://scarlet09libra.hatenablog.com/entry/2021/02/10/202451)\n",
    "\n",
    "- uni-gram ... $n = 1$\n",
    "- bi-gram ... $n = 2$\n",
    "- tri-gram ... $n = 3$\n",
    "\n",
    "##### 単語n-gramと文字n-gram\n",
    "\n"
   ]
  },
  {
   "cell_type": "code",
   "execution_count": 6,
   "metadata": {},
   "outputs": [
    {
     "name": "stdout",
     "output_type": "stream",
     "text": [
      "Writing knock05.py\n"
     ]
    }
   ],
   "source": [
    "%%writefile knock05.py\n",
    "\n",
    "def word_n_gram(target, n):#単語n-gram\n",
    "    result = []\n",
    "    target = target.split()\n",
    "    for i in range(len(target) - n + 1):\n",
    "        result.append(target[i:i+n])\n",
    "    return result\n",
    "\n",
    "def letter_n_gram(target, n):#文字n-gram\n",
    "    result = []\n",
    "    for i in range(len(target) - n + 1):\n",
    "        result.append(target[i:i+n])\n",
    "    return result\n",
    "\n",
    "text = 'I am an NLPer'\n",
    "\n",
    "print(word_n_gram(text,2))\n",
    "print(letter_n_gram(text,2))"
   ]
  },
  {
   "cell_type": "markdown",
   "metadata": {},
   "source": [
    "#### 06.\n",
    "\n",
    "集合の演算はset型を用いる。\n",
    "\n",
    "特徴\n",
    "\n",
    "- 重複した要素がない (例えば[1,2,2,2,3,3]をset型に変換すると{1,2,3}となる)\n",
    "- 要素に順番を持たない\n",
    "\n",
    "\n",
    "演算子\n",
    "- 和集合 : |演算子, union()\n",
    "- 積集合 : &演算子, intersection()\n",
    "- 差集合 : -演算子, difference()\n",
    "- 対象集合 : ^演算子, symmetric_difference()\n",
    "- 部分集合判定 : <=演算子, issubset()\n",
    "- 上位集合判定 : >=演算子, issuperset()\n",
    "- 互いに素か判定 : isdisjoint()"
   ]
  },
  {
   "cell_type": "code",
   "execution_count": 7,
   "metadata": {},
   "outputs": [
    {
     "name": "stdout",
     "output_type": "stream",
     "text": [
      "Writing knock06.py\n"
     ]
    }
   ],
   "source": [
    "%%writefile knock06.py\n",
    "def letter_n_gram(target, n):#文字n-gram\n",
    "    result = []\n",
    "    for i in range(len(target) - n + 1):\n",
    "        result.append(target[i:i+n])\n",
    "    return result\n",
    "\n",
    "str1 = 'paraparaparadise'\n",
    "str2 = 'paragraph'\n",
    "\n",
    "X = letter_n_gram(str1, 2)\n",
    "Y = letter_n_gram(str2, 2)\n",
    "\n",
    "setX, setY = set(X), set(Y)\n",
    "print('setX:',setX)\n",
    "print('setY : ',setY)\n",
    "\n",
    "#和集合\n",
    "union = setX | setY\n",
    "print('union : ',union)\n",
    "\n",
    "#積集合\n",
    "intersec = setX & setY\n",
    "print('intersection : ',intersec)\n",
    "\n",
    "#差集合\n",
    "diff = setX - setY\n",
    "print('difference : ',diff)\n",
    "\n",
    "#内在判定\n",
    "if 'se' in X:\n",
    "    print('se in X')\n",
    "if 'se' in Y:\n",
    "    print('se in Y')\n"
   ]
  },
  {
   "cell_type": "markdown",
   "metadata": {},
   "source": [
    "#### 07."
   ]
  },
  {
   "cell_type": "code",
   "execution_count": 8,
   "metadata": {},
   "outputs": [
    {
     "name": "stdout",
     "output_type": "stream",
     "text": [
      "Writing knock07.py\n"
     ]
    }
   ],
   "source": [
    "%%writefile knock07.py\n",
    "def sentence_gen(x, y ,z):\n",
    "    return '{}時の{}は{}'.format(x, y, z)\n",
    "\n",
    "print(sentence_gen(12, '気温', 22.4))"
   ]
  },
  {
   "cell_type": "markdown",
   "metadata": {},
   "source": [
    "#### 08."
   ]
  },
  {
   "cell_type": "code",
   "execution_count": 9,
   "metadata": {},
   "outputs": [
    {
     "name": "stdout",
     "output_type": "stream",
     "text": [
      "Overwriting knock08.py\n"
     ]
    }
   ],
   "source": [
    "%%writefile knock08.py\n",
    "def cipher(text):\n",
    "    result = ''\n",
    "    for char in text:\n",
    "        if char.islower():\n",
    "            result += chr(219-ord(char))\n",
    "        else:\n",
    "            result += char\n",
    "    return result\n",
    "\n",
    "cipher('I am Koki Itai')"
   ]
  },
  {
   "cell_type": "markdown",
   "metadata": {},
   "source": [
    "#### 09.\n",
    "\n",
    "join()...文字列のリストを一つの文字列に結合。記法は下記の通り。\n",
    "\n",
    "'間に挿入する文字列'.join([連結したい文字列のリスト])"
   ]
  },
  {
   "cell_type": "code",
   "execution_count": 10,
   "metadata": {},
   "outputs": [
    {
     "name": "stdout",
     "output_type": "stream",
     "text": [
      "Overwriting knock09.py\n"
     ]
    }
   ],
   "source": [
    "%%writefile knock09.py\n",
    "import random\n",
    "text = 'I couldn’t believe that I could actually understand what I was reading : the phenomenal power of the human mind .'\n",
    "\n",
    "def Typoglycemia(trg):\n",
    "    l_word = []\n",
    "    l_word = trg.split()\n",
    "\n",
    "    l_result = []\n",
    "    result = ''\n",
    "    \n",
    "    for idx, word in enumerate(l_word):\n",
    "        if len(word) > 4:\n",
    "            trg_shuffle = list(word[1:-1])\n",
    "            l_result.append(word[0] + ''.join(random.sample(trg_shuffle, len(trg_shuffle))) + word[-1])\n",
    "            #l_result.append(word[0] + ''.join(random.shuffle(trg_shuffle)) + word[-1])\n",
    "        else:\n",
    "            l_result.append(word)\n",
    "\n",
    "    result = ' '.join(l_result)\n",
    "    return result\n",
    "\n",
    "\n",
    "print(Typoglycemia(text))\n"
   ]
  },
  {
   "cell_type": "markdown",
   "metadata": {},
   "source": [
    "random.shuffle()で詰まったので備忘録\n",
    "\n",
    "- https://qiita.com/trsqxyz/items/a5a74d73e5852b84c07c\n",
    "- https://www.mathpython.com/ja/python-list-shuffle/\n",
    "\n",
    "random.shuffle()は返り値のNoneがうざすぎるので、random.sample()のほうが扱いやすいかもしれない"
   ]
  }
 ],
 "metadata": {
  "interpreter": {
   "hash": "d2d064ee8a359d13e32b4a40b24e08b3e9212a339599388346ff051895b8fcb1"
  },
  "kernelspec": {
   "display_name": "Python 3.10.1 64-bit",
   "language": "python",
   "name": "python3"
  },
  "language_info": {
   "codemirror_mode": {
    "name": "ipython",
    "version": 3
   },
   "file_extension": ".py",
   "mimetype": "text/x-python",
   "name": "python",
   "nbconvert_exporter": "python",
   "pygments_lexer": "ipython3",
   "version": "3.8.10"
  },
  "orig_nbformat": 4
 },
 "nbformat": 4,
 "nbformat_minor": 2
}
