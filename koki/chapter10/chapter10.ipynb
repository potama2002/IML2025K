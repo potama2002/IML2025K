{
 "cells": [
  {
   "cell_type": "markdown",
   "metadata": {},
   "source": [
    "<a href=\"https://colab.research.google.com/github/tmu-nlp/100knock2022/blob/main/koki/chapter10/chapter10.ipynb\">\n",
    "<img src=\"https://colab.research.google.com/assets/colab-badge.svg\" alt=\"Open In Colab\">\n",
    "</a>"
   ]
  },
  {
   "cell_type": "markdown",
   "metadata": {
    "id": "0OAI8U6pMK-l"
   },
   "source": [
    "## 90. データの準備\n",
    "\n",
    "機械翻訳のデータセットをダウンロードせよ．訓練データ，開発データ，評価データを整形し，必要に応じてトークン化などの前処理を行うこと．ただし，この段階ではトークンの単位として形態素（日本語）および単語（英語）を採用せよ．\n",
    "\n",
    "<hr>"
   ]
  },
  {
   "cell_type": "code",
   "execution_count": 8,
   "metadata": {
    "colab": {
     "base_uri": "https://localhost:8080/"
    },
    "id": "VGWLS8TF8IIg",
    "outputId": "dad76854-e70f-4521-e32d-a8fd0135a5e6"
   },
   "outputs": [
    {
     "name": "stdout",
     "output_type": "stream",
     "text": [
      "kftt-data-1.0/\n",
      "kftt-data-1.0/data/\n",
      "kftt-data-1.0/data/orig/\n",
      "kftt-data-1.0/data/orig/kyoto-tune.en\n",
      "kftt-data-1.0/data/orig/kyoto-dev.ja\n",
      "kftt-data-1.0/data/orig/kyoto-dev.en\n",
      "kftt-data-1.0/data/orig/kyoto-train.en\n",
      "kftt-data-1.0/data/orig/kyoto-tune.ja\n",
      "kftt-data-1.0/data/orig/kyoto-train.ja\n",
      "kftt-data-1.0/data/orig/kyoto-test.ja\n",
      "kftt-data-1.0/data/orig/kyoto-test.en\n",
      "kftt-data-1.0/data/tok/\n",
      "kftt-data-1.0/data/tok/kyoto-tune.en\n",
      "kftt-data-1.0/data/tok/kyoto-dev.ja\n",
      "kftt-data-1.0/data/tok/kyoto-train.cln.en\n",
      "kftt-data-1.0/data/tok/kyoto-dev.en\n",
      "kftt-data-1.0/data/tok/kyoto-train.en\n",
      "kftt-data-1.0/data/tok/kyoto-tune.ja\n",
      "kftt-data-1.0/data/tok/kyoto-train.cln.ja\n",
      "kftt-data-1.0/data/tok/kyoto-train.ja\n",
      "kftt-data-1.0/data/tok/kyoto-test.ja\n",
      "kftt-data-1.0/data/tok/kyoto-test.en\n",
      "kftt-data-1.0/README.txt\n"
     ]
    }
   ],
   "source": [
    "!tar zxvf kftt-data-1.0.tar.gz"
   ]
  },
  {
   "cell_type": "code",
   "execution_count": 9,
   "metadata": {
    "colab": {
     "base_uri": "https://localhost:8080/"
    },
    "id": "z7NPPsEw8dk1",
    "outputId": "d7ecbcc9-d2a1-4f44-d986-da52fe349a2a"
   },
   "outputs": [
    {
     "name": "stdout",
     "output_type": "stream",
     "text": [
      "Looking in indexes: https://pypi.org/simple, https://us-python.pkg.dev/colab-wheels/public/simple/\n",
      "Requirement already satisfied: ginza in /usr/local/lib/python3.7/dist-packages (5.1.1)\n",
      "Requirement already satisfied: spacy<3.3.0,>=3.2.0 in /usr/local/lib/python3.7/dist-packages (from ginza) (3.2.4)\n",
      "Requirement already satisfied: SudachiDict-core>=20210802 in /usr/local/lib/python3.7/dist-packages (from ginza) (20220519)\n",
      "Requirement already satisfied: SudachiPy<0.7.0,>=0.6.2 in /usr/local/lib/python3.7/dist-packages (from ginza) (0.6.5)\n",
      "Requirement already satisfied: plac>=1.3.3 in /usr/local/lib/python3.7/dist-packages (from ginza) (1.3.5)\n",
      "Requirement already satisfied: packaging>=20.0 in /usr/local/lib/python3.7/dist-packages (from spacy<3.3.0,>=3.2.0->ginza) (21.3)\n",
      "Requirement already satisfied: preshed<3.1.0,>=3.0.2 in /usr/local/lib/python3.7/dist-packages (from spacy<3.3.0,>=3.2.0->ginza) (3.0.6)\n",
      "Requirement already satisfied: numpy>=1.15.0 in /usr/local/lib/python3.7/dist-packages (from spacy<3.3.0,>=3.2.0->ginza) (1.21.6)\n",
      "Requirement already satisfied: typing-extensions<4.0.0.0,>=3.7.4 in /usr/local/lib/python3.7/dist-packages (from spacy<3.3.0,>=3.2.0->ginza) (3.10.0.2)\n",
      "Requirement already satisfied: spacy-loggers<2.0.0,>=1.0.0 in /usr/local/lib/python3.7/dist-packages (from spacy<3.3.0,>=3.2.0->ginza) (1.0.2)\n",
      "Requirement already satisfied: thinc<8.1.0,>=8.0.12 in /usr/local/lib/python3.7/dist-packages (from spacy<3.3.0,>=3.2.0->ginza) (8.0.17)\n",
      "Requirement already satisfied: srsly<3.0.0,>=2.4.1 in /usr/local/lib/python3.7/dist-packages (from spacy<3.3.0,>=3.2.0->ginza) (2.4.3)\n",
      "Requirement already satisfied: typer<0.5.0,>=0.3.0 in /usr/local/lib/python3.7/dist-packages (from spacy<3.3.0,>=3.2.0->ginza) (0.4.2)\n",
      "Requirement already satisfied: jinja2 in /usr/local/lib/python3.7/dist-packages (from spacy<3.3.0,>=3.2.0->ginza) (2.11.3)\n",
      "Requirement already satisfied: pathy>=0.3.5 in /usr/local/lib/python3.7/dist-packages (from spacy<3.3.0,>=3.2.0->ginza) (0.6.2)\n",
      "Requirement already satisfied: wasabi<1.1.0,>=0.8.1 in /usr/local/lib/python3.7/dist-packages (from spacy<3.3.0,>=3.2.0->ginza) (0.9.1)\n",
      "Requirement already satisfied: click<8.1.0 in /usr/local/lib/python3.7/dist-packages (from spacy<3.3.0,>=3.2.0->ginza) (7.1.2)\n",
      "Requirement already satisfied: catalogue<2.1.0,>=2.0.6 in /usr/local/lib/python3.7/dist-packages (from spacy<3.3.0,>=3.2.0->ginza) (2.0.7)\n",
      "Requirement already satisfied: cymem<2.1.0,>=2.0.2 in /usr/local/lib/python3.7/dist-packages (from spacy<3.3.0,>=3.2.0->ginza) (2.0.6)\n",
      "Requirement already satisfied: setuptools in /usr/local/lib/python3.7/dist-packages (from spacy<3.3.0,>=3.2.0->ginza) (57.4.0)\n",
      "Requirement already satisfied: langcodes<4.0.0,>=3.2.0 in /usr/local/lib/python3.7/dist-packages (from spacy<3.3.0,>=3.2.0->ginza) (3.3.0)\n",
      "Requirement already satisfied: pydantic!=1.8,!=1.8.1,<1.9.0,>=1.7.4 in /usr/local/lib/python3.7/dist-packages (from spacy<3.3.0,>=3.2.0->ginza) (1.8.2)\n",
      "Requirement already satisfied: spacy-legacy<3.1.0,>=3.0.8 in /usr/local/lib/python3.7/dist-packages (from spacy<3.3.0,>=3.2.0->ginza) (3.0.9)\n",
      "Requirement already satisfied: tqdm<5.0.0,>=4.38.0 in /usr/local/lib/python3.7/dist-packages (from spacy<3.3.0,>=3.2.0->ginza) (4.64.0)\n",
      "Requirement already satisfied: blis<0.8.0,>=0.4.0 in /usr/local/lib/python3.7/dist-packages (from spacy<3.3.0,>=3.2.0->ginza) (0.7.8)\n",
      "Requirement already satisfied: murmurhash<1.1.0,>=0.28.0 in /usr/local/lib/python3.7/dist-packages (from spacy<3.3.0,>=3.2.0->ginza) (1.0.7)\n",
      "Requirement already satisfied: requests<3.0.0,>=2.13.0 in /usr/local/lib/python3.7/dist-packages (from spacy<3.3.0,>=3.2.0->ginza) (2.23.0)\n",
      "Requirement already satisfied: zipp>=0.5 in /usr/local/lib/python3.7/dist-packages (from catalogue<2.1.0,>=2.0.6->spacy<3.3.0,>=3.2.0->ginza) (3.8.0)\n",
      "Requirement already satisfied: pyparsing!=3.0.5,>=2.0.2 in /usr/local/lib/python3.7/dist-packages (from packaging>=20.0->spacy<3.3.0,>=3.2.0->ginza) (3.0.9)\n",
      "Requirement already satisfied: smart-open<6.0.0,>=5.2.1 in /usr/local/lib/python3.7/dist-packages (from pathy>=0.3.5->spacy<3.3.0,>=3.2.0->ginza) (5.2.1)\n",
      "Requirement already satisfied: urllib3!=1.25.0,!=1.25.1,<1.26,>=1.21.1 in /usr/local/lib/python3.7/dist-packages (from requests<3.0.0,>=2.13.0->spacy<3.3.0,>=3.2.0->ginza) (1.24.3)\n",
      "Requirement already satisfied: idna<3,>=2.5 in /usr/local/lib/python3.7/dist-packages (from requests<3.0.0,>=2.13.0->spacy<3.3.0,>=3.2.0->ginza) (2.10)\n",
      "Requirement already satisfied: certifi>=2017.4.17 in /usr/local/lib/python3.7/dist-packages (from requests<3.0.0,>=2.13.0->spacy<3.3.0,>=3.2.0->ginza) (2022.6.15)\n",
      "Requirement already satisfied: chardet<4,>=3.0.2 in /usr/local/lib/python3.7/dist-packages (from requests<3.0.0,>=2.13.0->spacy<3.3.0,>=3.2.0->ginza) (3.0.4)\n",
      "Requirement already satisfied: MarkupSafe>=0.23 in /usr/local/lib/python3.7/dist-packages (from jinja2->spacy<3.3.0,>=3.2.0->ginza) (2.0.1)\n"
     ]
    }
   ],
   "source": [
    "!pip install ginza"
   ]
  },
  {
   "cell_type": "code",
   "execution_count": 10,
   "metadata": {
    "id": "jnzdIPBN8app"
   },
   "outputs": [],
   "source": [
    "!cat kftt-data-1.0/data/orig/kyoto-train.ja | sed 's/\\s+/ /g' | ginzame > train.ginza.ja\n",
    "!cat kftt-data-1.0/data/orig/kyoto-dev.ja | sed 's/\\s+/ /g' | ginzame > dev.ginza.ja\n",
    "!cat kftt-data-1.0/data/orig/kyoto-test.ja | sed 's/\\s+/ /g' | ginzame > test.ginza.ja"
   ]
  },
  {
   "cell_type": "code",
   "execution_count": 11,
   "metadata": {
    "id": "y0iM_qqX8jX4"
   },
   "outputs": [],
   "source": [
    "for src, dst in [\n",
    "    ('train.ginza.ja', 'train.spacy.ja'),\n",
    "    ('dev.ginza.ja', 'dev.spacy.ja'),\n",
    "    ('test.ginza.ja', 'test.spacy.ja'),\n",
    "]:\n",
    "    #with open(src, encoding=\"utf-8_sig\") as f:  # win\n",
    "    with open(src) as f:  # unix\n",
    "        lst = []\n",
    "        tmp = []\n",
    "        for x in f:\n",
    "            x = x.strip()\n",
    "            if x == 'EOS':\n",
    "                lst.append(' '.join(tmp))\n",
    "                tmp = []\n",
    "            elif x != '':\n",
    "                tmp.append(x.split('\\t')[0])\n",
    "    #with open(dst, 'w', encoding=\"utf-8_sig\") as f:\n",
    "    with open(dst, 'w') as f:\n",
    "        for line in lst:\n",
    "            print(line, file=f)"
   ]
  },
  {
   "cell_type": "code",
   "execution_count": 12,
   "metadata": {
    "colab": {
     "base_uri": "https://localhost:8080/"
    },
    "id": "2NC_upu_9pB4",
    "outputId": "8df4ffd1-f470-43df-b9a4-6fc8561e4103"
   },
   "outputs": [
    {
     "name": "stdout",
     "output_type": "stream",
     "text": [
      "\u001b[38;5;3m⚠ As of spaCy v3.0, shortcuts like 'en' are deprecated. Please use the\n",
      "full pipeline package name 'en_core_web_sm' instead.\u001b[0m\n",
      "Looking in indexes: https://pypi.org/simple, https://us-python.pkg.dev/colab-wheels/public/simple/\n",
      "Collecting en-core-web-sm==3.2.0\n",
      "  Downloading https://github.com/explosion/spacy-models/releases/download/en_core_web_sm-3.2.0/en_core_web_sm-3.2.0-py3-none-any.whl (13.9 MB)\n",
      "\u001b[K     |████████████████████████████████| 13.9 MB 3.7 MB/s \n",
      "\u001b[?25hRequirement already satisfied: spacy<3.3.0,>=3.2.0 in /usr/local/lib/python3.7/dist-packages (from en-core-web-sm==3.2.0) (3.2.4)\n",
      "Requirement already satisfied: murmurhash<1.1.0,>=0.28.0 in /usr/local/lib/python3.7/dist-packages (from spacy<3.3.0,>=3.2.0->en-core-web-sm==3.2.0) (1.0.7)\n",
      "Requirement already satisfied: preshed<3.1.0,>=3.0.2 in /usr/local/lib/python3.7/dist-packages (from spacy<3.3.0,>=3.2.0->en-core-web-sm==3.2.0) (3.0.6)\n",
      "Requirement already satisfied: typing-extensions<4.0.0.0,>=3.7.4 in /usr/local/lib/python3.7/dist-packages (from spacy<3.3.0,>=3.2.0->en-core-web-sm==3.2.0) (3.10.0.2)\n",
      "Requirement already satisfied: langcodes<4.0.0,>=3.2.0 in /usr/local/lib/python3.7/dist-packages (from spacy<3.3.0,>=3.2.0->en-core-web-sm==3.2.0) (3.3.0)\n",
      "Requirement already satisfied: wasabi<1.1.0,>=0.8.1 in /usr/local/lib/python3.7/dist-packages (from spacy<3.3.0,>=3.2.0->en-core-web-sm==3.2.0) (0.9.1)\n",
      "Requirement already satisfied: spacy-loggers<2.0.0,>=1.0.0 in /usr/local/lib/python3.7/dist-packages (from spacy<3.3.0,>=3.2.0->en-core-web-sm==3.2.0) (1.0.2)\n",
      "Requirement already satisfied: srsly<3.0.0,>=2.4.1 in /usr/local/lib/python3.7/dist-packages (from spacy<3.3.0,>=3.2.0->en-core-web-sm==3.2.0) (2.4.3)\n",
      "Requirement already satisfied: numpy>=1.15.0 in /usr/local/lib/python3.7/dist-packages (from spacy<3.3.0,>=3.2.0->en-core-web-sm==3.2.0) (1.21.6)\n",
      "Requirement already satisfied: thinc<8.1.0,>=8.0.12 in /usr/local/lib/python3.7/dist-packages (from spacy<3.3.0,>=3.2.0->en-core-web-sm==3.2.0) (8.0.17)\n",
      "Requirement already satisfied: typer<0.5.0,>=0.3.0 in /usr/local/lib/python3.7/dist-packages (from spacy<3.3.0,>=3.2.0->en-core-web-sm==3.2.0) (0.4.2)\n",
      "Requirement already satisfied: spacy-legacy<3.1.0,>=3.0.8 in /usr/local/lib/python3.7/dist-packages (from spacy<3.3.0,>=3.2.0->en-core-web-sm==3.2.0) (3.0.9)\n",
      "Requirement already satisfied: blis<0.8.0,>=0.4.0 in /usr/local/lib/python3.7/dist-packages (from spacy<3.3.0,>=3.2.0->en-core-web-sm==3.2.0) (0.7.8)\n",
      "Requirement already satisfied: jinja2 in /usr/local/lib/python3.7/dist-packages (from spacy<3.3.0,>=3.2.0->en-core-web-sm==3.2.0) (2.11.3)\n",
      "Requirement already satisfied: cymem<2.1.0,>=2.0.2 in /usr/local/lib/python3.7/dist-packages (from spacy<3.3.0,>=3.2.0->en-core-web-sm==3.2.0) (2.0.6)\n",
      "Requirement already satisfied: pydantic!=1.8,!=1.8.1,<1.9.0,>=1.7.4 in /usr/local/lib/python3.7/dist-packages (from spacy<3.3.0,>=3.2.0->en-core-web-sm==3.2.0) (1.8.2)\n",
      "Requirement already satisfied: requests<3.0.0,>=2.13.0 in /usr/local/lib/python3.7/dist-packages (from spacy<3.3.0,>=3.2.0->en-core-web-sm==3.2.0) (2.23.0)\n",
      "Requirement already satisfied: pathy>=0.3.5 in /usr/local/lib/python3.7/dist-packages (from spacy<3.3.0,>=3.2.0->en-core-web-sm==3.2.0) (0.6.2)\n",
      "Requirement already satisfied: catalogue<2.1.0,>=2.0.6 in /usr/local/lib/python3.7/dist-packages (from spacy<3.3.0,>=3.2.0->en-core-web-sm==3.2.0) (2.0.7)\n",
      "Requirement already satisfied: click<8.1.0 in /usr/local/lib/python3.7/dist-packages (from spacy<3.3.0,>=3.2.0->en-core-web-sm==3.2.0) (7.1.2)\n",
      "Requirement already satisfied: setuptools in /usr/local/lib/python3.7/dist-packages (from spacy<3.3.0,>=3.2.0->en-core-web-sm==3.2.0) (57.4.0)\n",
      "Requirement already satisfied: packaging>=20.0 in /usr/local/lib/python3.7/dist-packages (from spacy<3.3.0,>=3.2.0->en-core-web-sm==3.2.0) (21.3)\n",
      "Requirement already satisfied: tqdm<5.0.0,>=4.38.0 in /usr/local/lib/python3.7/dist-packages (from spacy<3.3.0,>=3.2.0->en-core-web-sm==3.2.0) (4.64.0)\n",
      "Requirement already satisfied: zipp>=0.5 in /usr/local/lib/python3.7/dist-packages (from catalogue<2.1.0,>=2.0.6->spacy<3.3.0,>=3.2.0->en-core-web-sm==3.2.0) (3.8.0)\n",
      "Requirement already satisfied: pyparsing!=3.0.5,>=2.0.2 in /usr/local/lib/python3.7/dist-packages (from packaging>=20.0->spacy<3.3.0,>=3.2.0->en-core-web-sm==3.2.0) (3.0.9)\n",
      "Requirement already satisfied: smart-open<6.0.0,>=5.2.1 in /usr/local/lib/python3.7/dist-packages (from pathy>=0.3.5->spacy<3.3.0,>=3.2.0->en-core-web-sm==3.2.0) (5.2.1)\n",
      "Requirement already satisfied: certifi>=2017.4.17 in /usr/local/lib/python3.7/dist-packages (from requests<3.0.0,>=2.13.0->spacy<3.3.0,>=3.2.0->en-core-web-sm==3.2.0) (2022.6.15)\n",
      "Requirement already satisfied: chardet<4,>=3.0.2 in /usr/local/lib/python3.7/dist-packages (from requests<3.0.0,>=2.13.0->spacy<3.3.0,>=3.2.0->en-core-web-sm==3.2.0) (3.0.4)\n",
      "Requirement already satisfied: idna<3,>=2.5 in /usr/local/lib/python3.7/dist-packages (from requests<3.0.0,>=2.13.0->spacy<3.3.0,>=3.2.0->en-core-web-sm==3.2.0) (2.10)\n",
      "Requirement already satisfied: urllib3!=1.25.0,!=1.25.1,<1.26,>=1.21.1 in /usr/local/lib/python3.7/dist-packages (from requests<3.0.0,>=2.13.0->spacy<3.3.0,>=3.2.0->en-core-web-sm==3.2.0) (1.24.3)\n",
      "Requirement already satisfied: MarkupSafe>=0.23 in /usr/local/lib/python3.7/dist-packages (from jinja2->spacy<3.3.0,>=3.2.0->en-core-web-sm==3.2.0) (2.0.1)\n",
      "Installing collected packages: en-core-web-sm\n",
      "  Attempting uninstall: en-core-web-sm\n",
      "    Found existing installation: en-core-web-sm 3.3.0\n",
      "    Uninstalling en-core-web-sm-3.3.0:\n",
      "      Successfully uninstalled en-core-web-sm-3.3.0\n",
      "Successfully installed en-core-web-sm-3.2.0\n",
      "\u001b[38;5;2m✔ Download and installation successful\u001b[0m\n",
      "You can now load the package via spacy.load('en_core_web_sm')\n"
     ]
    }
   ],
   "source": [
    "!python3 -m spacy download en"
   ]
  },
  {
   "cell_type": "code",
   "execution_count": 14,
   "metadata": {
    "id": "9nOZr8639qup"
   },
   "outputs": [],
   "source": [
    "import re\n",
    "import spacy\n",
    "\n",
    "nlp = spacy.load(\"en_core_web_sm\")\n",
    "for src, dst in [\n",
    "    ('kftt-data-1.0/data/orig/kyoto-train.en', 'train.spacy.en'),\n",
    "    ('kftt-data-1.0/data/orig/kyoto-dev.en', 'dev.spacy.en'),\n",
    "    ('kftt-data-1.0/data/orig/kyoto-test.en', 'test.spacy.en'),\n",
    "]:\n",
    "    with open(src) as f, open(dst, 'w') as g:\n",
    "        for x in f:\n",
    "            x = x.strip()\n",
    "            x = re.sub(r'\\s+', ' ', x)\n",
    "            x = nlp.make_doc(x)\n",
    "            x = ' '.join([doc.text for doc in x])\n",
    "            print(x, file=g)"
   ]
  },
  {
   "cell_type": "markdown",
   "metadata": {
    "id": "ho7DqByv9ssa"
   },
   "source": [
    "## 91. 機械翻訳モデルの訓練\n",
    "90で準備したデータを用いて，ニューラル機械翻訳のモデルを学習せよ（ニューラルネットワークのモデルはTransformerやLSTMなど適当に選んでよい）．\n",
    "<hr>"
   ]
  },
  {
   "cell_type": "markdown",
   "metadata": {
    "id": "Eh2b0U---EEJ"
   },
   "source": [
    "### 準備\n",
    "\n",
    "fairseqのインストール\n",
    "\n",
    "pip経由の場合旧バージョンをインストール可能、最新ビルドはgit cloneからのみ\n",
    "\n",
    "```bash\n",
    "git clone https://github.com/pytorch/fairseq\n",
    "cd fairseq \n",
    "pip install --editable ./\n",
    "```\n"
   ]
  },
  {
   "cell_type": "code",
   "execution_count": 15,
   "metadata": {
    "colab": {
     "base_uri": "https://localhost:8080/"
    },
    "id": "welviYvu_yCW",
    "outputId": "e8f0a13f-7231-41de-bcc3-b151adface08"
   },
   "outputs": [
    {
     "name": "stdout",
     "output_type": "stream",
     "text": [
      "\u001b[33mWARNING: Package(s) not found: fairseq\u001b[0m\n"
     ]
    }
   ],
   "source": [
    "!pip show fairseq"
   ]
  },
  {
   "cell_type": "code",
   "execution_count": 16,
   "metadata": {
    "colab": {
     "base_uri": "https://localhost:8080/"
    },
    "id": "qM5HSrrF92S8",
    "outputId": "73906732-3c45-43e9-cefa-639c8cd3f648"
   },
   "outputs": [
    {
     "name": "stdout",
     "output_type": "stream",
     "text": [
      "\u001b[K     |████████████████████████████████| 1.7 MB 26.8 MB/s \n",
      "\u001b[K     |████████████████████████████████| 151 kB 13.8 MB/s \n",
      "\u001b[K     |████████████████████████████████| 92 kB 12.9 MB/s \n",
      "\u001b[K     |████████████████████████████████| 79 kB 3.0 MB/s \n",
      "\u001b[K     |████████████████████████████████| 117 kB 57.6 MB/s \n",
      "\u001b[K     |████████████████████████████████| 596 kB 66.2 MB/s \n",
      "\u001b[?25h  Building wheel for antlr4-python3-runtime (setup.py) ... \u001b[?25l\u001b[?25hdone\n"
     ]
    }
   ],
   "source": [
    "!pip install -q fairseq==0.10.2"
   ]
  },
  {
   "cell_type": "markdown",
   "metadata": {
    "id": "qtPuyN0n-HWW"
   },
   "source": [
    "sacremoses, sacrebleu という評価用のツールもインストール。 \n",
    "\n",
    "BLEU という機械翻訳の評価スクリプトが使えるようになる\n",
    "\n"
   ]
  },
  {
   "cell_type": "code",
   "execution_count": 17,
   "metadata": {
    "colab": {
     "base_uri": "https://localhost:8080/"
    },
    "id": "QgQ0ChNS-DhJ",
    "outputId": "00a7501f-938d-47ae-adc1-08d364af3b00"
   },
   "outputs": [
    {
     "name": "stdout",
     "output_type": "stream",
     "text": [
      "\u001b[K     |████████████████████████████████| 880 kB 128 kB/s \n",
      "\u001b[?25h  Building wheel for sacremoses (setup.py) ... \u001b[?25l\u001b[?25hdone\n",
      "\u001b[K     |████████████████████████████████| 54 kB 3.1 MB/s \n",
      "\u001b[?25h"
     ]
    }
   ],
   "source": [
    "!pip install -q sacremoses\n",
    "!pip install -q sacrebleu==1.5.1"
   ]
  },
  {
   "cell_type": "markdown",
   "metadata": {
    "id": "lx13253P-rxg"
   },
   "source": [
    "### データの前処理\n",
    "\n",
    "`fairseq-preprocess` というスクリプトでデータの前処理を行う\n",
    "\n",
    "トークン化やサブワード化をして語彙サイズをコントロールしたりする\n",
    "\n",
    "#### `fairseq-preprocess` オプション\n",
    "最低限以下のコマンドを指定\n",
    "- pref... 各ファイルのパス\n",
    "- destdir...作成したデータセットの保存先\n",
    "- task...翻訳、分類などモデルに学習させるタスクの種類\n",
    "\n",
    "今回用いたコマンドは下記の通り\n",
    "- -s または --source-lang...翻訳元の言語\n",
    "- -t または --target-lang...翻訳後の言語\n",
    "- thresholdsrc...map words appearing less than threshold times to unknown(Default: 0), 閾値以下の値の頻度で出現する単語を未知語にマップする\n",
    "- thresholdtgt...map words appearing less than threshold times to unknown(Default: 0), \n",
    "- workers..number of parallel workers\n",
    "\n",
    "\n"
   ]
  },
  {
   "cell_type": "code",
   "execution_count": 18,
   "metadata": {
    "colab": {
     "base_uri": "https://localhost:8080/"
    },
    "id": "J7zZvDjb9zqk",
    "outputId": "4ff4f7f0-f0d1-43ff-cf94-cf820a00b068"
   },
   "outputs": [
    {
     "name": "stdout",
     "output_type": "stream",
     "text": [
      "2022-07-14 13:57:20 | INFO | fairseq_cli.preprocess | Namespace(align_suffix=None, alignfile=None, all_gather_list_size=16384, bf16=False, bpe=None, checkpoint_shard_count=1, checkpoint_suffix='', cpu=False, criterion='cross_entropy', dataset_impl='mmap', destdir='data91', empty_cache_freq=0, fp16=False, fp16_init_scale=128, fp16_no_flatten_grads=False, fp16_scale_tolerance=0.0, fp16_scale_window=None, joined_dictionary=False, log_format=None, log_interval=100, lr_scheduler='fixed', memory_efficient_bf16=False, memory_efficient_fp16=False, min_loss_scale=0.0001, model_parallel_size=1, no_progress_bar=False, nwordssrc=-1, nwordstgt=-1, only_source=False, optimizer=None, padding_factor=8, profile=False, quantization_config_path=None, scoring='bleu', seed=1, source_lang='ja', srcdict=None, target_lang='en', task='translation', tensorboard_logdir=None, testpref=None, tgtdict=None, threshold_loss_scale=None, thresholdsrc=5, thresholdtgt=5, tokenizer=None, tpu=False, trainpref='train.spacy', user_dir=None, validpref='dev.spacy', workers=20)\n",
      "2022-07-14 13:58:30 | INFO | fairseq_cli.preprocess | [ja] Dictionary: 53928 types\n",
      "2022-07-14 13:59:50 | INFO | fairseq_cli.preprocess | [ja] train.spacy.ja: 440288 sents, 11547511 tokens, 1.24% replaced by <unk>\n",
      "2022-07-14 13:59:50 | INFO | fairseq_cli.preprocess | [ja] Dictionary: 53928 types\n",
      "2022-07-14 13:59:51 | INFO | fairseq_cli.preprocess | [ja] dev.spacy.ja: 1166 sents, 26468 tokens, 1.24% replaced by <unk>\n",
      "2022-07-14 13:59:51 | INFO | fairseq_cli.preprocess | [en] Dictionary: 55472 types\n",
      "2022-07-14 14:00:50 | INFO | fairseq_cli.preprocess | [en] train.spacy.en: 440288 sents, 12321279 tokens, 1.56% replaced by <unk>\n",
      "2022-07-14 14:00:50 | INFO | fairseq_cli.preprocess | [en] Dictionary: 55472 types\n",
      "2022-07-14 14:00:51 | INFO | fairseq_cli.preprocess | [en] dev.spacy.en: 1166 sents, 26101 tokens, 2.83% replaced by <unk>\n",
      "2022-07-14 14:00:51 | INFO | fairseq_cli.preprocess | Wrote preprocessed data to data91\n"
     ]
    }
   ],
   "source": [
    "!fairseq-preprocess -s ja -t en \\\n",
    "    --trainpref train.spacy \\\n",
    "    --validpref dev.spacy \\\n",
    "    --destdir data91  \\\n",
    "    --thresholdsrc 5 \\\n",
    "    --thresholdtgt 5 \\\n",
    "    --workers 20"
   ]
  },
  {
   "cell_type": "markdown",
   "metadata": {
    "id": "y13xIzhGBkEg"
   },
   "source": [
    "### 学習\n",
    "\n",
    "`fairseq-train` というスクリプトで学習する\n",
    "\n",
    "`%env CUDA_VISIBLE_DEVICES=0 `はGPU指定\n"
   ]
  },
  {
   "cell_type": "markdown",
   "metadata": {
    "id": "U42JCMyhCO44"
   },
   "source": [
    "#### `fairseq-train` オプション\n",
    "\n",
    "- fp16...半精度浮動小数点による訓練(GPUスループットが向上する?わからん)\n",
    "- arch ... 使用するモデルのアーキテクチャを指定(transformer)\n",
    "- lr ... learing rate(default=0.25)\n",
    "- max-epoch...そのままの意味、指定しないと無限に学習を続けるので注意\n",
    "- optimizer...最適化(Possible choices: adadelta, adafactor, adagrad, adam, adamax, composite, cpu_adam, lamb, nag, sgd)\n"
   ]
  },
  {
   "cell_type": "code",
   "execution_count": 20,
   "metadata": {
    "colab": {
     "base_uri": "https://localhost:8080/"
    },
    "id": "tbtdkapGBttC",
    "outputId": "59719cda-93ae-4ebf-d9bb-7550cbf60e05"
   },
   "outputs": [
    {
     "name": "stdout",
     "output_type": "stream",
     "text": [
      "env: CUDA_VISIBLE_DEVICES=0\n",
      "epoch 001: 100% 1822/1823 [10:44<00:00,  2.88it/s, loss=7.526, nll_loss=6.231, ppl=75.1, wps=18745.4, ups=2.85, wpb=6565.8, bsz=219.4, num_updates=1800, lr=0.0009, gnorm=0.868, clip=17, loss_scale=8, train_wall=35, wall=638]\n",
      "epoch 001 | valid on 'valid' subset:   0% 0/7 [00:00<?, ?it/s]\u001b[A\n",
      "epoch 001 | valid on 'valid' subset:  14% 1/7 [00:00<00:00,  6.42it/s]\u001b[A\n",
      "epoch 001 | valid on 'valid' subset:  29% 2/7 [00:00<00:00,  7.89it/s]\u001b[A\n",
      "epoch 001 | valid on 'valid' subset:  43% 3/7 [00:00<00:00,  8.50it/s]\u001b[A\n",
      "epoch 001 | valid on 'valid' subset:  57% 4/7 [00:00<00:00,  8.87it/s]\u001b[A\n",
      "epoch 001 | valid on 'valid' subset:  71% 5/7 [00:00<00:00,  9.16it/s]\u001b[A\n",
      "epoch 001 | valid on 'valid' subset:  86% 6/7 [00:00<00:00,  8.74it/s]\u001b[A\n",
      "epoch 001 | valid on 'valid' subset: 100% 7/7 [00:00<00:00,  8.79it/s]\u001b[A\n",
      "epoch 002: 100% 1822/1823 [10:43<00:00,  2.77it/s, loss=6.691, nll_loss=5.273, ppl=38.67, wps=19136, ups=2.84, wpb=6729.1, bsz=253.8, num_updates=3600, lr=0.000745356, gnorm=0.622, clip=7, loss_scale=8, train_wall=35, wall=1292]\n",
      "epoch 002 | valid on 'valid' subset:   0% 0/7 [00:00<?, ?it/s]\u001b[A\n",
      "epoch 002 | valid on 'valid' subset:  14% 1/7 [00:00<00:00,  6.35it/s]\u001b[A\n",
      "epoch 002 | valid on 'valid' subset:  29% 2/7 [00:00<00:00,  7.83it/s]\u001b[A\n",
      "epoch 002 | valid on 'valid' subset:  43% 3/7 [00:00<00:00,  8.56it/s]\u001b[A\n",
      "epoch 002 | valid on 'valid' subset:  57% 4/7 [00:00<00:00,  8.91it/s]\u001b[A\n",
      "epoch 002 | valid on 'valid' subset:  71% 5/7 [00:00<00:00,  9.12it/s]\u001b[A\n",
      "epoch 002 | valid on 'valid' subset:  86% 6/7 [00:00<00:00,  8.68it/s]\u001b[A\n",
      "epoch 002 | valid on 'valid' subset: 100% 7/7 [00:00<00:00,  8.76it/s]\u001b[A\n",
      "epoch 003: 100% 1822/1823 [10:42<00:00,  2.97it/s, loss=6.311, nll_loss=4.832, ppl=28.49, wps=19503, ups=2.8, wpb=6965.4, bsz=264.6, num_updates=5400, lr=0.000608581, gnorm=0.568, clip=5, loss_scale=4, train_wall=36, wall=1945]\n",
      "epoch 003 | valid on 'valid' subset:   0% 0/7 [00:00<?, ?it/s]\u001b[A\n",
      "epoch 003 | valid on 'valid' subset:  14% 1/7 [00:00<00:00,  6.27it/s]\u001b[A\n",
      "epoch 003 | valid on 'valid' subset:  29% 2/7 [00:00<00:00,  7.80it/s]\u001b[A\n",
      "epoch 003 | valid on 'valid' subset:  43% 3/7 [00:00<00:00,  8.46it/s]\u001b[A\n",
      "epoch 003 | valid on 'valid' subset:  57% 4/7 [00:00<00:00,  8.86it/s]\u001b[A\n",
      "epoch 003 | valid on 'valid' subset:  71% 5/7 [00:00<00:00,  9.14it/s]\u001b[A\n",
      "epoch 003 | valid on 'valid' subset:  86% 6/7 [00:00<00:00,  8.76it/s]\u001b[A\n",
      "epoch 003 | valid on 'valid' subset: 100% 7/7 [00:00<00:00,  8.80it/s]\u001b[A\n",
      "epoch 004: 100% 1822/1823 [10:40<00:00,  3.01it/s, loss=5.995, nll_loss=4.466, ppl=22.1, wps=19491.9, ups=2.82, wpb=6907.6, bsz=247.1, num_updates=7200, lr=0.000527046, gnorm=0.578, clip=3, loss_scale=4, train_wall=35, wall=2596]\n",
      "epoch 004 | valid on 'valid' subset:   0% 0/7 [00:00<?, ?it/s]\u001b[A\n",
      "epoch 004 | valid on 'valid' subset:  14% 1/7 [00:00<00:00,  6.36it/s]\u001b[A\n",
      "epoch 004 | valid on 'valid' subset:  29% 2/7 [00:00<00:00,  7.85it/s]\u001b[A\n",
      "epoch 004 | valid on 'valid' subset:  43% 3/7 [00:00<00:00,  8.47it/s]\u001b[A\n",
      "epoch 004 | valid on 'valid' subset:  57% 4/7 [00:00<00:00,  8.84it/s]\u001b[A\n",
      "epoch 004 | valid on 'valid' subset:  71% 5/7 [00:00<00:00,  9.15it/s]\u001b[A\n",
      "epoch 004 | valid on 'valid' subset:  86% 6/7 [00:00<00:00,  8.78it/s]\u001b[A\n",
      "epoch 004 | valid on 'valid' subset: 100% 7/7 [00:00<00:00,  8.88it/s]\u001b[A\n",
      "epoch 005: 100% 1822/1823 [10:40<00:00,  2.86it/s, loss=5.838, nll_loss=4.283, ppl=19.47, wps=19299.5, ups=2.84, wpb=6798.7, bsz=266.3, num_updates=9100, lr=0.000468807, gnorm=0.618, clip=5, loss_scale=4, train_wall=35, wall=3282]\n",
      "epoch 005 | valid on 'valid' subset:   0% 0/7 [00:00<?, ?it/s]\u001b[A\n",
      "epoch 005 | valid on 'valid' subset:  14% 1/7 [00:00<00:00,  6.09it/s]\u001b[A\n",
      "epoch 005 | valid on 'valid' subset:  29% 2/7 [00:00<00:00,  7.58it/s]\u001b[A\n",
      "epoch 005 | valid on 'valid' subset:  43% 3/7 [00:00<00:00,  8.41it/s]\u001b[A\n",
      "epoch 005 | valid on 'valid' subset:  57% 4/7 [00:00<00:00,  8.85it/s]\u001b[A\n",
      "epoch 005 | valid on 'valid' subset:  71% 5/7 [00:00<00:00,  9.09it/s]\u001b[A\n",
      "epoch 005 | valid on 'valid' subset:  86% 6/7 [00:00<00:00,  8.66it/s]\u001b[A\n",
      "epoch 005 | valid on 'valid' subset: 100% 7/7 [00:00<00:00,  8.76it/s]\u001b[A\n",
      "epoch 006: 100% 1822/1823 [10:40<00:00,  2.87it/s, loss=5.688, nll_loss=4.109, ppl=17.26, wps=19209.1, ups=2.88, wpb=6681, bsz=220.7, num_updates=10900, lr=0.000428353, gnorm=0.601, clip=3, loss_scale=4, train_wall=35, wall=3934]\n",
      "epoch 006 | valid on 'valid' subset:   0% 0/7 [00:00<?, ?it/s]\u001b[A\n",
      "epoch 006 | valid on 'valid' subset:  14% 1/7 [00:00<00:00,  6.39it/s]\u001b[A\n",
      "epoch 006 | valid on 'valid' subset:  29% 2/7 [00:00<00:00,  7.92it/s]\u001b[A\n",
      "epoch 006 | valid on 'valid' subset:  43% 3/7 [00:00<00:00,  8.63it/s]\u001b[A\n",
      "epoch 006 | valid on 'valid' subset:  57% 4/7 [00:00<00:00,  8.95it/s]\u001b[A\n",
      "epoch 006 | valid on 'valid' subset:  71% 5/7 [00:00<00:00,  9.23it/s]\u001b[A\n",
      "epoch 006 | valid on 'valid' subset:  86% 6/7 [00:00<00:00,  8.82it/s]\u001b[A\n",
      "epoch 006 | valid on 'valid' subset: 100% 7/7 [00:00<00:00,  8.90it/s]\u001b[A\n",
      "epoch 007: 100% 1822/1823 [10:40<00:00,  2.83it/s, loss=5.659, nll_loss=4.072, ppl=16.82, wps=19476.2, ups=2.84, wpb=6858.1, bsz=258.5, num_updates=12700, lr=0.000396838, gnorm=0.644, clip=4, loss_scale=4, train_wall=35, wall=4590]\n",
      "epoch 007 | valid on 'valid' subset:   0% 0/7 [00:00<?, ?it/s]\u001b[A\n",
      "epoch 007 | valid on 'valid' subset:  14% 1/7 [00:00<00:01,  5.83it/s]\u001b[A\n",
      "epoch 007 | valid on 'valid' subset:  29% 2/7 [00:00<00:00,  7.42it/s]\u001b[A\n",
      "epoch 007 | valid on 'valid' subset:  43% 3/7 [00:00<00:00,  8.20it/s]\u001b[A\n",
      "epoch 007 | valid on 'valid' subset:  57% 4/7 [00:00<00:00,  8.68it/s]\u001b[A\n",
      "epoch 007 | valid on 'valid' subset:  71% 5/7 [00:00<00:00,  9.02it/s]\u001b[A\n",
      "epoch 007 | valid on 'valid' subset:  86% 6/7 [00:00<00:00,  8.70it/s]\u001b[A\n",
      "epoch 007 | valid on 'valid' subset: 100% 7/7 [00:00<00:00,  8.83it/s]\u001b[A\n",
      "epoch 008: 100% 1822/1823 [10:40<00:00,  2.90it/s, loss=5.616, nll_loss=4.021, ppl=16.24, wps=19068.5, ups=2.82, wpb=6763.1, bsz=261.6, num_updates=14500, lr=0.000371391, gnorm=0.656, clip=4, loss_scale=4, train_wall=35, wall=5244]\n",
      "epoch 008 | valid on 'valid' subset:   0% 0/7 [00:00<?, ?it/s]\u001b[A\n",
      "epoch 008 | valid on 'valid' subset:  14% 1/7 [00:00<00:00,  6.63it/s]\u001b[A\n",
      "epoch 008 | valid on 'valid' subset:  29% 2/7 [00:00<00:00,  8.05it/s]\u001b[A\n",
      "epoch 008 | valid on 'valid' subset:  43% 3/7 [00:00<00:00,  8.67it/s]\u001b[A\n",
      "epoch 008 | valid on 'valid' subset:  57% 4/7 [00:00<00:00,  8.98it/s]\u001b[A\n",
      "epoch 008 | valid on 'valid' subset:  71% 5/7 [00:00<00:00,  9.17it/s]\u001b[A\n",
      "epoch 008 | valid on 'valid' subset:  86% 6/7 [00:00<00:00,  8.75it/s]\u001b[A\n",
      "epoch 008 | valid on 'valid' subset: 100% 7/7 [00:00<00:00,  8.82it/s]\u001b[A\n",
      "epoch 009: 100% 1822/1823 [10:40<00:00,  2.82it/s, loss=5.397, nll_loss=3.77, ppl=13.64, wps=19481.6, ups=2.85, wpb=6844.4, bsz=240.6, num_updates=16400, lr=0.000349215, gnorm=0.632, clip=4, loss_scale=4, train_wall=35, wall=5924]\n",
      "epoch 009 | valid on 'valid' subset:   0% 0/7 [00:00<?, ?it/s]\u001b[A\n",
      "epoch 009 | valid on 'valid' subset:  14% 1/7 [00:00<00:01,  5.64it/s]\u001b[A\n",
      "epoch 009 | valid on 'valid' subset:  29% 2/7 [00:00<00:00,  7.24it/s]\u001b[A\n",
      "epoch 009 | valid on 'valid' subset:  43% 3/7 [00:00<00:00,  8.15it/s]\u001b[A\n",
      "epoch 009 | valid on 'valid' subset:  57% 4/7 [00:00<00:00,  8.68it/s]\u001b[A\n",
      "epoch 009 | valid on 'valid' subset:  71% 5/7 [00:00<00:00,  9.04it/s]\u001b[A\n",
      "epoch 009 | valid on 'valid' subset:  86% 6/7 [00:00<00:00,  8.71it/s]\u001b[A\n",
      "epoch 009 | valid on 'valid' subset: 100% 7/7 [00:00<00:00,  8.80it/s]\u001b[A\n",
      "epoch 010: 100% 1822/1823 [10:40<00:00,  2.78it/s, loss=5.308, nll_loss=3.665, ppl=12.69, wps=19212, ups=2.87, wpb=6702.4, bsz=254, num_updates=18200, lr=0.000331497, gnorm=0.651, clip=4, loss_scale=4, train_wall=35, wall=6568]\n",
      "epoch 010 | valid on 'valid' subset:   0% 0/7 [00:00<?, ?it/s]\u001b[A\n",
      "epoch 010 | valid on 'valid' subset:  14% 1/7 [00:00<00:01,  5.97it/s]\u001b[A\n",
      "epoch 010 | valid on 'valid' subset:  29% 2/7 [00:00<00:00,  7.59it/s]\u001b[A\n",
      "epoch 010 | valid on 'valid' subset:  43% 3/7 [00:00<00:00,  8.31it/s]\u001b[A\n",
      "epoch 010 | valid on 'valid' subset:  57% 4/7 [00:00<00:00,  8.68it/s]\u001b[A\n",
      "epoch 010 | valid on 'valid' subset:  71% 5/7 [00:00<00:00,  9.00it/s]\u001b[A\n",
      "epoch 010 | valid on 'valid' subset:  86% 6/7 [00:00<00:00,  8.70it/s]\u001b[A\n",
      "epoch 010 | valid on 'valid' subset: 100% 7/7 [00:00<00:00,  8.81it/s]\u001b[A\n"
     ]
    }
   ],
   "source": [
    "%env CUDA_VISIBLE_DEVICES=0 \n",
    "!fairseq-train data91 \\\n",
    "    --fp16 \\\n",
    "    --save-dir save91 \\\n",
    "    --max-epoch 10 \\\n",
    "    --arch transformer --share-decoder-input-output-embed \\\n",
    "    --optimizer adam --clip-norm 1.0 \\\n",
    "    --lr 1e-3 --lr-scheduler inverse_sqrt --warmup-updates 2000 \\\n",
    "    --update-freq 1 \\\n",
    "    --dropout 0.2 --weight-decay 0.0001 \\\n",
    "    --criterion label_smoothed_cross_entropy --label-smoothing 0.1 \\\n",
    "    --max-tokens 8000 > 91.log"
   ]
  },
  {
   "cell_type": "markdown",
   "metadata": {
    "id": "uZ7MWRgNE-o8"
   },
   "source": [
    "## 92. 機械翻訳モデルの適用\n",
    "91で学習したニューラル機械翻訳モデルを用い，与えられた（任意の）日本語の文を英語に翻訳するプログラムを実装せよ．\n",
    "<hr>"
   ]
  },
  {
   "cell_type": "markdown",
   "metadata": {
    "id": "8ba_rTvNLHDI"
   },
   "source": [
    "`fairseq-interactive`\n",
    "\n",
    "学習済みモデルでテストデータを翻訳\n",
    "\n",
    "- path ... 学習させたモデルを指定"
   ]
  },
  {
   "cell_type": "markdown",
   "metadata": {
    "id": "y8VsrSPeMnJw"
   },
   "source": [
    "91でepoch10まで学習したモデルでtest.spacy.ja(サブワード分割したテスト文)を翻訳\n",
    "\n",
    "- サブワード分割\n",
    "\n",
    "「道元（どうげん）は、鎌倉時代初期の禅僧。」\n",
    "\n",
    "↓\n",
    "\n",
    "「道元（どうげん） は 、 鎌倉 時代 初期 の 禅僧 。」\n",
    "\n"
   ]
  },
  {
   "cell_type": "code",
   "execution_count": 28,
   "metadata": {
    "colab": {
     "base_uri": "https://localhost:8080/"
    },
    "id": "mwKNXI-dFERj",
    "outputId": "0ed9a317-d7c0-4091-c466-71f06533bcc4"
   },
   "outputs": [
    {
     "name": "stdout",
     "output_type": "stream",
     "text": [
      "/usr/local/lib/python3.7/dist-packages/fairseq/search.py:140: UserWarning: __floordiv__ is deprecated, and its behavior will change in a future version of pytorch. It currently rounds toward 0 (like the 'trunc' function NOT 'floor'). This results in incorrect rounding for negative values. To keep the current behavior, use torch.div(a, b, rounding_mode='trunc'), or for actual floor division, use torch.div(a, b, rounding_mode='floor').\n",
      "  beams_buf = indices_buf // vocab_size\n",
      "/usr/local/lib/python3.7/dist-packages/fairseq/sequence_generator.py:651: UserWarning: __floordiv__ is deprecated, and its behavior will change in a future version of pytorch. It currently rounds toward 0 (like the 'trunc' function NOT 'floor'). This results in incorrect rounding for negative values. To keep the current behavior, use torch.div(a, b, rounding_mode='trunc'), or for actual floor division, use torch.div(a, b, rounding_mode='floor').\n",
      "  unfin_idx = idx // beam_size\n",
      "Traceback (most recent call last):\n",
      "  File \"/usr/local/bin/fairseq-interactive\", line 8, in <module>\n",
      "    sys.exit(cli_main())\n",
      "  File \"/usr/local/lib/python3.7/dist-packages/fairseq_cli/interactive.py\", line 307, in cli_main\n",
      "    distributed_utils.call_main(args, main)\n",
      "  File \"/usr/local/lib/python3.7/dist-packages/fairseq/distributed_utils.py\", line 301, in call_main\n",
      "    main(args, **kwargs)\n",
      "  File \"/usr/local/lib/python3.7/dist-packages/fairseq_cli/interactive.py\", line 224, in main\n",
      "    generator, models, sample, constraints=constraints\n",
      "  File \"/usr/local/lib/python3.7/dist-packages/fairseq/tasks/fairseq_task.py\", line 434, in inference_step\n",
      "    models, sample, prefix_tokens=prefix_tokens, constraints=constraints\n",
      "  File \"/usr/local/lib/python3.7/dist-packages/torch/autograd/grad_mode.py\", line 27, in decorate_context\n",
      "    return func(*args, **kwargs)\n",
      "  File \"/usr/local/lib/python3.7/dist-packages/fairseq/sequence_generator.py\", line 177, in generate\n",
      "    return self._generate(sample, **kwargs)\n",
      "  File \"/usr/local/lib/python3.7/dist-packages/fairseq/sequence_generator.py\", line 327, in _generate\n",
      "    lprobs[lprobs != lprobs] = torch.tensor(-math.inf).to(lprobs)\n",
      "KeyboardInterrupt\n"
     ]
    }
   ],
   "source": [
    "!fairseq-interactive --path save91/checkpoint10.pt data91 < test.spacy.ja | grep '^H' | cut -f3 > 92.out"
   ]
  },
  {
   "cell_type": "markdown",
   "metadata": {
    "id": "0LYoDU-pThB0"
   },
   "source": [
    "grep '^H'の目的？\n"
   ]
  },
  {
   "cell_type": "markdown",
   "metadata": {
    "id": "1l7lJJkugLlx"
   },
   "source": [
    "#### 結果(上位5文)\n",
    "\n",
    "##### 入力\n",
    "1. 道元（どうげん） は 、 鎌倉 時代 初期 の 禅僧 。\n",
    "2. 曹洞 宗 の 開祖 。\n",
    "3. 晩年 に 希玄 と いう 異称 も 用い た 。\n",
    "4. 同 宗旨 で は 高祖 と 尊称 さ れる 。\n",
    "5. 諡 は 、 仏性 伝 東国 師 、 承 陽 大師 _ ( 僧 ) 。\n",
    "\n",
    "##### 出力\n",
    "1. Zen priests in the early Kamakura period .\n",
    "2. Founder of Soto sect .\n",
    "3. His name was also written as <unk> .\n",
    "4. It is also referred to as <unk> .\n",
    "5. His posthumous Buddhist name was <unk> .\n",
    "\n",
    "##### 正解\n",
    "1. Dogen was a Zen monk in the early Kamakura period .\n",
    "2. The founder of Soto Zen\n",
    "3. Later in his life he also went by the name Kigen .\n",
    "4. Within the sect he is referred to by the honorary title Koso .\n",
    "5. Posthumously named Bussho Dento Kokushi , or Joyo - Daishi ."
   ]
  },
  {
   "cell_type": "markdown",
   "metadata": {
    "id": "o_i-VT2wLvGL"
   },
   "source": [
    "## 93. BLEUスコアの計測\n",
    "91で学習したニューラル機械翻訳モデルの品質を調べるため，評価データにおけるBLEUスコアを測定せよ．\n",
    "\n",
    "<hr>"
   ]
  },
  {
   "cell_type": "code",
   "execution_count": 29,
   "metadata": {
    "colab": {
     "base_uri": "https://localhost:8080/"
    },
    "id": "ZGQ-buLQL5SG",
    "outputId": "f99a7d0b-06a9-4bad-82c6-4254b89434e0"
   },
   "outputs": [
    {
     "name": "stdout",
     "output_type": "stream",
     "text": [
      "Namespace(ignore_case=False, order=4, ref='test.spacy.en', sacrebleu=False, sentence_bleu=False, sys='92.out')\n",
      "BLEU4 = 4.55, 19.3/6.3/2.7/1.3 (BP=1.000, ratio=1.845, syslen=26885, reflen=14569)\n"
     ]
    }
   ],
   "source": [
    "!fairseq-score --sys 92.out --ref test.spacy.en"
   ]
  },
  {
   "cell_type": "markdown",
   "metadata": {
    "id": "m5eqh2aUOMze"
   },
   "source": [
    "## 94. ビーム探索\n",
    "\n",
    "91で学習したニューラル機械翻訳モデルで翻訳文をデコードする際に，ビーム探索を導入せよ．ビーム幅を1から100くらいまで適当に変化させながら，開発セット上のBLEUスコアの変化をプロットせよ．\n",
    "\n",
    "<hr>"
   ]
  },
  {
   "cell_type": "code",
   "execution_count": null,
   "metadata": {},
   "outputs": [],
   "source": [
    "!for N in `seq 1 10` ; do fairseq-interactive --path save91/checkpoint10.pt --beam $N data91 < test.spacy.ja | grep '^H' | cut -f3 > 94.$N.out  done"
   ]
  },
  {
   "cell_type": "code",
   "execution_count": null,
   "metadata": {},
   "outputs": [],
   "source": [
    "!for N in `seq 1 10` ; do fairseq-score --sys 94.$N.out --ref test.spacy.en > 94.$N.score done"
   ]
  },
  {
   "cell_type": "markdown",
   "metadata": {
    "id": "hTJ7Z-ugYbGf"
   },
   "source": [
    "グラフ化"
   ]
  },
  {
   "cell_type": "code",
   "execution_count": null,
   "metadata": {},
   "outputs": [],
   "source": [
    "import matplotlib.pyplot as plt\n",
    "\n",
    "def read_score(filename):\n",
    "    with open(filename) as f:\n",
    "        x = f.readlines()[1]\n",
    "        x = re.search(r'(?<=BLEU4 = )\\d*\\.\\d*(?=,)', x)\n",
    "        return float(x.group())\n",
    "\n",
    "xs = range(1, 21)\n",
    "ys = [read_score(f'94.{x}.score') for x in xs]\n",
    "plt.plot(xs, ys)\n",
    "plt.show()"
   ]
  }
 ],
 "metadata": {
  "accelerator": "GPU",
  "colab": {
   "name": "chapter10.ipynb",
   "provenance": []
  },
  "gpuClass": "standard",
  "kernelspec": {
   "display_name": "Python 3 (ipykernel)",
   "language": "python",
   "name": "python3"
  },
  "language_info": {
   "codemirror_mode": {
    "name": "ipython",
    "version": 3
   },
   "file_extension": ".py",
   "mimetype": "text/x-python",
   "name": "python",
   "nbconvert_exporter": "python",
   "pygments_lexer": "ipython3",
   "version": "3.9.10+"
  },
  "vscode": {
   "interpreter": {
    "hash": "aee8b7b246df8f9039afb4144a1f6fd8d2ca17a180786b69acc140d282b71a49"
   }
  }
 },
 "nbformat": 4,
 "nbformat_minor": 1
}
